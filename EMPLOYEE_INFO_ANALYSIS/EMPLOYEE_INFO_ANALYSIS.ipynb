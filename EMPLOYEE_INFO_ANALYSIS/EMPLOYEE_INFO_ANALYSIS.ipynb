{
  "cells": [
    {
      "cell_type": "markdown",
      "source": [
        "**IMPORTING LIBRARIES**"
      ],
      "metadata": {
        "id": "1QkLozW2gf_b"
      }
    },
    {
      "cell_type": "code",
      "execution_count": null,
      "metadata": {
        "id": "aWoyzsSYeSph"
      },
      "outputs": [],
      "source": [
        "import mysql.connector\n",
        "import pandas as pd\n",
        "import numpy as np\n",
        "import matplotlib.pyplot as plt\n",
        "import seaborn as sns\n",
        "import warnings\n",
        "warnings.filterwarnings('ignore')"
      ]
    },
    {
      "cell_type": "markdown",
      "source": [
        "**CONNECTING WITH MYSQL DATABASE**"
      ],
      "metadata": {
        "id": "pCBAs9Okgl7R"
      }
    },
    {
      "cell_type": "code",
      "execution_count": null,
      "metadata": {
        "id": "KWZUE1XFeSpj"
      },
      "outputs": [],
      "source": [
        "db=mysql.connector.connect(\n",
        "    host=\"localhost\",\n",
        "    user=\"root\",\n",
        "    password=\"prad@123\",\n",
        "    database=\"ola\"\n",
        ")"
      ]
    },
    {
      "cell_type": "code",
      "execution_count": null,
      "metadata": {
        "id": "k4KyJVBVeSpl",
        "outputId": "ecd70003-c74e-427a-bf2b-4c0305791602"
      },
      "outputs": [
        {
          "name": "stdout",
          "output_type": "stream",
          "text": [
            "('employee_dataset',)\n"
          ]
        }
      ],
      "source": [
        "mycursor=db.cursor()\n",
        "mycursor.execute(\"SHOW TABLES\")\n",
        "for table in mycursor.fetchall():\n",
        "    print(table)"
      ]
    },
    {
      "cell_type": "code",
      "execution_count": null,
      "metadata": {
        "id": "ui6GE_dIeSpr"
      },
      "outputs": [],
      "source": [
        "query=\"SELECT * from employee_dataset\"\n",
        "df=pd.read_sql(query,db)"
      ]
    },
    {
      "cell_type": "markdown",
      "source": [
        "**DISPLAYING DATASET**"
      ],
      "metadata": {
        "id": "vkmhJjw_grtM"
      }
    },
    {
      "cell_type": "code",
      "execution_count": null,
      "metadata": {
        "id": "2KnqVd7jeSpt",
        "outputId": "ae78aa9f-90d2-44c2-e7a1-dd1d635928af"
      },
      "outputs": [
        {
          "data": {
            "text/html": [
              "<div>\n",
              "<style scoped>\n",
              "    .dataframe tbody tr th:only-of-type {\n",
              "        vertical-align: middle;\n",
              "    }\n",
              "\n",
              "    .dataframe tbody tr th {\n",
              "        vertical-align: top;\n",
              "    }\n",
              "\n",
              "    .dataframe thead th {\n",
              "        text-align: right;\n",
              "    }\n",
              "</style>\n",
              "<table border=\"1\" class=\"dataframe\">\n",
              "  <thead>\n",
              "    <tr style=\"text-align: right;\">\n",
              "      <th></th>\n",
              "      <th>Employee_ID</th>\n",
              "      <th>Department</th>\n",
              "      <th>Gender</th>\n",
              "      <th>Age</th>\n",
              "      <th>Job_Title</th>\n",
              "      <th>MyUnknownColumn</th>\n",
              "      <th>Years_At_Company</th>\n",
              "      <th>Education_Level</th>\n",
              "      <th>Performance_Score</th>\n",
              "      <th>Monthly_Salary</th>\n",
              "      <th>Work_Hours_Per_Week</th>\n",
              "      <th>Projects_Handled</th>\n",
              "      <th>Overtime_Hours</th>\n",
              "      <th>Sick_Days</th>\n",
              "      <th>Remote_Work_Frequency</th>\n",
              "      <th>Team_Size</th>\n",
              "      <th>Training_Hours</th>\n",
              "      <th>Promotions</th>\n",
              "      <th>Employee_Satisfaction_Score</th>\n",
              "    </tr>\n",
              "  </thead>\n",
              "  <tbody>\n",
              "    <tr>\n",
              "      <th>0</th>\n",
              "      <td>1</td>\n",
              "      <td>IT</td>\n",
              "      <td>Male</td>\n",
              "      <td>55</td>\n",
              "      <td>Specialist</td>\n",
              "      <td></td>\n",
              "      <td>2</td>\n",
              "      <td>High School</td>\n",
              "      <td>5</td>\n",
              "      <td>6750</td>\n",
              "      <td>33</td>\n",
              "      <td>32</td>\n",
              "      <td>22</td>\n",
              "      <td>2</td>\n",
              "      <td>0</td>\n",
              "      <td>14</td>\n",
              "      <td>66</td>\n",
              "      <td>0</td>\n",
              "      <td>2.63</td>\n",
              "    </tr>\n",
              "    <tr>\n",
              "      <th>1</th>\n",
              "      <td>2</td>\n",
              "      <td>Finance</td>\n",
              "      <td>Male</td>\n",
              "      <td>29</td>\n",
              "      <td>Developer</td>\n",
              "      <td></td>\n",
              "      <td>0</td>\n",
              "      <td>High School</td>\n",
              "      <td>5</td>\n",
              "      <td>7500</td>\n",
              "      <td>34</td>\n",
              "      <td>34</td>\n",
              "      <td>13</td>\n",
              "      <td>14</td>\n",
              "      <td>100</td>\n",
              "      <td>12</td>\n",
              "      <td>61</td>\n",
              "      <td>2</td>\n",
              "      <td>1.72</td>\n",
              "    </tr>\n",
              "    <tr>\n",
              "      <th>2</th>\n",
              "      <td>3</td>\n",
              "      <td>Finance</td>\n",
              "      <td>Male</td>\n",
              "      <td>55</td>\n",
              "      <td>Specialist</td>\n",
              "      <td></td>\n",
              "      <td>8</td>\n",
              "      <td>High School</td>\n",
              "      <td>3</td>\n",
              "      <td>5850</td>\n",
              "      <td>37</td>\n",
              "      <td>27</td>\n",
              "      <td>6</td>\n",
              "      <td>3</td>\n",
              "      <td>50</td>\n",
              "      <td>10</td>\n",
              "      <td>1</td>\n",
              "      <td>0</td>\n",
              "      <td>3.17</td>\n",
              "    </tr>\n",
              "    <tr>\n",
              "      <th>3</th>\n",
              "      <td>4</td>\n",
              "      <td>Customer Support</td>\n",
              "      <td>Female</td>\n",
              "      <td>48</td>\n",
              "      <td>Analyst</td>\n",
              "      <td></td>\n",
              "      <td>7</td>\n",
              "      <td>Bachelor</td>\n",
              "      <td>2</td>\n",
              "      <td>4800</td>\n",
              "      <td>52</td>\n",
              "      <td>10</td>\n",
              "      <td>28</td>\n",
              "      <td>12</td>\n",
              "      <td>100</td>\n",
              "      <td>10</td>\n",
              "      <td>0</td>\n",
              "      <td>1</td>\n",
              "      <td>1.86</td>\n",
              "    </tr>\n",
              "    <tr>\n",
              "      <th>4</th>\n",
              "      <td>5</td>\n",
              "      <td>Engineering</td>\n",
              "      <td>Female</td>\n",
              "      <td>36</td>\n",
              "      <td>Analyst</td>\n",
              "      <td></td>\n",
              "      <td>3</td>\n",
              "      <td>Bachelor</td>\n",
              "      <td>2</td>\n",
              "      <td>4800</td>\n",
              "      <td>38</td>\n",
              "      <td>11</td>\n",
              "      <td>29</td>\n",
              "      <td>13</td>\n",
              "      <td>100</td>\n",
              "      <td>15</td>\n",
              "      <td>9</td>\n",
              "      <td>1</td>\n",
              "      <td>1.25</td>\n",
              "    </tr>\n",
              "  </tbody>\n",
              "</table>\n",
              "</div>"
            ],
            "text/plain": [
              "   Employee_ID        Department  Gender  Age   Job_Title MyUnknownColumn  \\\n",
              "0            1                IT    Male   55  Specialist                   \n",
              "1            2           Finance    Male   29   Developer                   \n",
              "2            3           Finance    Male   55  Specialist                   \n",
              "3            4  Customer Support  Female   48     Analyst                   \n",
              "4            5       Engineering  Female   36     Analyst                   \n",
              "\n",
              "   Years_At_Company Education_Level  Performance_Score  Monthly_Salary  \\\n",
              "0                 2     High School                  5            6750   \n",
              "1                 0     High School                  5            7500   \n",
              "2                 8     High School                  3            5850   \n",
              "3                 7        Bachelor                  2            4800   \n",
              "4                 3        Bachelor                  2            4800   \n",
              "\n",
              "   Work_Hours_Per_Week  Projects_Handled  Overtime_Hours  Sick_Days  \\\n",
              "0                   33                32              22          2   \n",
              "1                   34                34              13         14   \n",
              "2                   37                27               6          3   \n",
              "3                   52                10              28         12   \n",
              "4                   38                11              29         13   \n",
              "\n",
              "   Remote_Work_Frequency  Team_Size  Training_Hours  Promotions  \\\n",
              "0                      0         14              66           0   \n",
              "1                    100         12              61           2   \n",
              "2                     50         10               1           0   \n",
              "3                    100         10               0           1   \n",
              "4                    100         15               9           1   \n",
              "\n",
              "   Employee_Satisfaction_Score  \n",
              "0                         2.63  \n",
              "1                         1.72  \n",
              "2                         3.17  \n",
              "3                         1.86  \n",
              "4                         1.25  "
            ]
          },
          "execution_count": 5,
          "metadata": {},
          "output_type": "execute_result"
        }
      ],
      "source": [
        "df.head()"
      ]
    },
    {
      "cell_type": "code",
      "execution_count": null,
      "metadata": {
        "id": "QslC-geEeSpw",
        "outputId": "0ce189a3-5b47-4e6a-eaf5-28279270f331"
      },
      "outputs": [
        {
          "data": {
            "text/plain": [
              "0"
            ]
          },
          "execution_count": 6,
          "metadata": {},
          "output_type": "execute_result"
        }
      ],
      "source": [
        "df.isnull().sum().sum()"
      ]
    },
    {
      "cell_type": "code",
      "execution_count": null,
      "metadata": {
        "id": "7YEJO_oneSpw",
        "outputId": "e18025b2-cf20-4746-f6f3-969dbf3ae8a4"
      },
      "outputs": [
        {
          "data": {
            "text/plain": [
              "(76898, 19)"
            ]
          },
          "execution_count": 7,
          "metadata": {},
          "output_type": "execute_result"
        }
      ],
      "source": [
        "df.shape"
      ]
    },
    {
      "cell_type": "code",
      "execution_count": null,
      "metadata": {
        "id": "xPEX4ycpeSpx"
      },
      "outputs": [],
      "source": [
        "# TOTAL RECORDS IN DATASET"
      ]
    },
    {
      "cell_type": "code",
      "execution_count": null,
      "metadata": {
        "id": "IB77tnr2eSpy",
        "outputId": "fb876c91-4bff-4494-b9fb-151a4e28e231"
      },
      "outputs": [
        {
          "name": "stdout",
          "output_type": "stream",
          "text": [
            "76898\n"
          ]
        }
      ],
      "source": [
        "print(len(df))"
      ]
    },
    {
      "cell_type": "code",
      "execution_count": null,
      "metadata": {
        "id": "67h1hMFveSpy",
        "outputId": "210ede6e-dd82-4ff1-ed47-970cf81ea86a"
      },
      "outputs": [
        {
          "data": {
            "text/html": [
              "<div>\n",
              "<style scoped>\n",
              "    .dataframe tbody tr th:only-of-type {\n",
              "        vertical-align: middle;\n",
              "    }\n",
              "\n",
              "    .dataframe tbody tr th {\n",
              "        vertical-align: top;\n",
              "    }\n",
              "\n",
              "    .dataframe thead th {\n",
              "        text-align: right;\n",
              "    }\n",
              "</style>\n",
              "<table border=\"1\" class=\"dataframe\">\n",
              "  <thead>\n",
              "    <tr style=\"text-align: right;\">\n",
              "      <th></th>\n",
              "      <th>Employee_ID</th>\n",
              "      <th>Age</th>\n",
              "      <th>Years_At_Company</th>\n",
              "      <th>Performance_Score</th>\n",
              "      <th>Monthly_Salary</th>\n",
              "      <th>Work_Hours_Per_Week</th>\n",
              "      <th>Projects_Handled</th>\n",
              "      <th>Overtime_Hours</th>\n",
              "      <th>Sick_Days</th>\n",
              "      <th>Remote_Work_Frequency</th>\n",
              "      <th>Team_Size</th>\n",
              "      <th>Training_Hours</th>\n",
              "      <th>Promotions</th>\n",
              "      <th>Employee_Satisfaction_Score</th>\n",
              "    </tr>\n",
              "  </thead>\n",
              "  <tbody>\n",
              "    <tr>\n",
              "      <th>count</th>\n",
              "      <td>76898.000000</td>\n",
              "      <td>76898.000000</td>\n",
              "      <td>76898.000000</td>\n",
              "      <td>76898.000000</td>\n",
              "      <td>76898.000000</td>\n",
              "      <td>76898.000000</td>\n",
              "      <td>76898.000000</td>\n",
              "      <td>76898.000000</td>\n",
              "      <td>76898.000000</td>\n",
              "      <td>76898.000000</td>\n",
              "      <td>76898.0000</td>\n",
              "      <td>76898.000000</td>\n",
              "      <td>76898.000000</td>\n",
              "      <td>76898.000000</td>\n",
              "    </tr>\n",
              "    <tr>\n",
              "      <th>mean</th>\n",
              "      <td>38449.500000</td>\n",
              "      <td>41.013667</td>\n",
              "      <td>4.484369</td>\n",
              "      <td>3.000403</td>\n",
              "      <td>6405.776483</td>\n",
              "      <td>44.954030</td>\n",
              "      <td>24.458725</td>\n",
              "      <td>14.538076</td>\n",
              "      <td>7.010052</td>\n",
              "      <td>50.110536</td>\n",
              "      <td>10.0145</td>\n",
              "      <td>49.580353</td>\n",
              "      <td>0.999545</td>\n",
              "      <td>3.001382</td>\n",
              "    </tr>\n",
              "    <tr>\n",
              "      <th>std</th>\n",
              "      <td>22198.684837</td>\n",
              "      <td>11.257123</td>\n",
              "      <td>2.864618</td>\n",
              "      <td>1.416396</td>\n",
              "      <td>1373.475741</td>\n",
              "      <td>8.940133</td>\n",
              "      <td>14.465330</td>\n",
              "      <td>8.673014</td>\n",
              "      <td>4.331665</td>\n",
              "      <td>35.351258</td>\n",
              "      <td>5.4990</td>\n",
              "      <td>28.882139</td>\n",
              "      <td>0.815383</td>\n",
              "      <td>1.150715</td>\n",
              "    </tr>\n",
              "    <tr>\n",
              "      <th>min</th>\n",
              "      <td>1.000000</td>\n",
              "      <td>22.000000</td>\n",
              "      <td>0.000000</td>\n",
              "      <td>1.000000</td>\n",
              "      <td>3850.000000</td>\n",
              "      <td>30.000000</td>\n",
              "      <td>0.000000</td>\n",
              "      <td>0.000000</td>\n",
              "      <td>0.000000</td>\n",
              "      <td>0.000000</td>\n",
              "      <td>1.0000</td>\n",
              "      <td>0.000000</td>\n",
              "      <td>0.000000</td>\n",
              "      <td>1.000000</td>\n",
              "    </tr>\n",
              "    <tr>\n",
              "      <th>25%</th>\n",
              "      <td>19225.250000</td>\n",
              "      <td>31.000000</td>\n",
              "      <td>2.000000</td>\n",
              "      <td>2.000000</td>\n",
              "      <td>5250.000000</td>\n",
              "      <td>37.000000</td>\n",
              "      <td>12.000000</td>\n",
              "      <td>7.000000</td>\n",
              "      <td>3.000000</td>\n",
              "      <td>25.000000</td>\n",
              "      <td>5.0000</td>\n",
              "      <td>25.000000</td>\n",
              "      <td>0.000000</td>\n",
              "      <td>2.010000</td>\n",
              "    </tr>\n",
              "    <tr>\n",
              "      <th>50%</th>\n",
              "      <td>38449.500000</td>\n",
              "      <td>41.000000</td>\n",
              "      <td>4.000000</td>\n",
              "      <td>3.000000</td>\n",
              "      <td>6500.000000</td>\n",
              "      <td>45.000000</td>\n",
              "      <td>24.000000</td>\n",
              "      <td>15.000000</td>\n",
              "      <td>7.000000</td>\n",
              "      <td>50.000000</td>\n",
              "      <td>10.0000</td>\n",
              "      <td>49.000000</td>\n",
              "      <td>1.000000</td>\n",
              "      <td>3.000000</td>\n",
              "    </tr>\n",
              "    <tr>\n",
              "      <th>75%</th>\n",
              "      <td>57673.750000</td>\n",
              "      <td>51.000000</td>\n",
              "      <td>7.000000</td>\n",
              "      <td>4.000000</td>\n",
              "      <td>7500.000000</td>\n",
              "      <td>53.000000</td>\n",
              "      <td>37.000000</td>\n",
              "      <td>22.000000</td>\n",
              "      <td>11.000000</td>\n",
              "      <td>75.000000</td>\n",
              "      <td>15.0000</td>\n",
              "      <td>75.000000</td>\n",
              "      <td>2.000000</td>\n",
              "      <td>4.000000</td>\n",
              "    </tr>\n",
              "    <tr>\n",
              "      <th>max</th>\n",
              "      <td>76898.000000</td>\n",
              "      <td>60.000000</td>\n",
              "      <td>10.000000</td>\n",
              "      <td>5.000000</td>\n",
              "      <td>9000.000000</td>\n",
              "      <td>60.000000</td>\n",
              "      <td>49.000000</td>\n",
              "      <td>29.000000</td>\n",
              "      <td>14.000000</td>\n",
              "      <td>100.000000</td>\n",
              "      <td>19.0000</td>\n",
              "      <td>99.000000</td>\n",
              "      <td>2.000000</td>\n",
              "      <td>5.000000</td>\n",
              "    </tr>\n",
              "  </tbody>\n",
              "</table>\n",
              "</div>"
            ],
            "text/plain": [
              "        Employee_ID           Age  Years_At_Company  Performance_Score  \\\n",
              "count  76898.000000  76898.000000      76898.000000       76898.000000   \n",
              "mean   38449.500000     41.013667          4.484369           3.000403   \n",
              "std    22198.684837     11.257123          2.864618           1.416396   \n",
              "min        1.000000     22.000000          0.000000           1.000000   \n",
              "25%    19225.250000     31.000000          2.000000           2.000000   \n",
              "50%    38449.500000     41.000000          4.000000           3.000000   \n",
              "75%    57673.750000     51.000000          7.000000           4.000000   \n",
              "max    76898.000000     60.000000         10.000000           5.000000   \n",
              "\n",
              "       Monthly_Salary  Work_Hours_Per_Week  Projects_Handled  Overtime_Hours  \\\n",
              "count    76898.000000         76898.000000      76898.000000    76898.000000   \n",
              "mean      6405.776483            44.954030         24.458725       14.538076   \n",
              "std       1373.475741             8.940133         14.465330        8.673014   \n",
              "min       3850.000000            30.000000          0.000000        0.000000   \n",
              "25%       5250.000000            37.000000         12.000000        7.000000   \n",
              "50%       6500.000000            45.000000         24.000000       15.000000   \n",
              "75%       7500.000000            53.000000         37.000000       22.000000   \n",
              "max       9000.000000            60.000000         49.000000       29.000000   \n",
              "\n",
              "          Sick_Days  Remote_Work_Frequency   Team_Size  Training_Hours  \\\n",
              "count  76898.000000           76898.000000  76898.0000    76898.000000   \n",
              "mean       7.010052              50.110536     10.0145       49.580353   \n",
              "std        4.331665              35.351258      5.4990       28.882139   \n",
              "min        0.000000               0.000000      1.0000        0.000000   \n",
              "25%        3.000000              25.000000      5.0000       25.000000   \n",
              "50%        7.000000              50.000000     10.0000       49.000000   \n",
              "75%       11.000000              75.000000     15.0000       75.000000   \n",
              "max       14.000000             100.000000     19.0000       99.000000   \n",
              "\n",
              "         Promotions  Employee_Satisfaction_Score  \n",
              "count  76898.000000                 76898.000000  \n",
              "mean       0.999545                     3.001382  \n",
              "std        0.815383                     1.150715  \n",
              "min        0.000000                     1.000000  \n",
              "25%        0.000000                     2.010000  \n",
              "50%        1.000000                     3.000000  \n",
              "75%        2.000000                     4.000000  \n",
              "max        2.000000                     5.000000  "
            ]
          },
          "execution_count": 10,
          "metadata": {},
          "output_type": "execute_result"
        }
      ],
      "source": [
        "df.describe()"
      ]
    },
    {
      "cell_type": "markdown",
      "source": [
        "**1.TOTAL EMPLOYEES BASED ON GENDER**"
      ],
      "metadata": {
        "id": "INmMKXX0g028"
      }
    },
    {
      "cell_type": "code",
      "execution_count": null,
      "metadata": {
        "id": "Tl1AOPszeSpz",
        "outputId": "e4350d69-bd7e-49cc-d27e-6d95ab774f76"
      },
      "outputs": [
        {
          "data": {
            "text/html": [
              "<div>\n",
              "<style scoped>\n",
              "    .dataframe tbody tr th:only-of-type {\n",
              "        vertical-align: middle;\n",
              "    }\n",
              "\n",
              "    .dataframe tbody tr th {\n",
              "        vertical-align: top;\n",
              "    }\n",
              "\n",
              "    .dataframe thead th {\n",
              "        text-align: right;\n",
              "    }\n",
              "</style>\n",
              "<table border=\"1\" class=\"dataframe\">\n",
              "  <thead>\n",
              "    <tr style=\"text-align: right;\">\n",
              "      <th></th>\n",
              "      <th>Gender</th>\n",
              "      <th>total</th>\n",
              "    </tr>\n",
              "  </thead>\n",
              "  <tbody>\n",
              "    <tr>\n",
              "      <th>0</th>\n",
              "      <td>Female</td>\n",
              "      <td>36946</td>\n",
              "    </tr>\n",
              "    <tr>\n",
              "      <th>1</th>\n",
              "      <td>Male</td>\n",
              "      <td>36938</td>\n",
              "    </tr>\n",
              "    <tr>\n",
              "      <th>2</th>\n",
              "      <td>Other</td>\n",
              "      <td>3014</td>\n",
              "    </tr>\n",
              "  </tbody>\n",
              "</table>\n",
              "</div>"
            ],
            "text/plain": [
              "   Gender  total\n",
              "0  Female  36946\n",
              "1    Male  36938\n",
              "2   Other   3014"
            ]
          },
          "execution_count": 11,
          "metadata": {},
          "output_type": "execute_result"
        }
      ],
      "source": [
        "x=pd.read_sql_query(\"select Gender, count(*) as total from employee_dataset group by Gender order by total desc\",db)\n",
        "x"
      ]
    },
    {
      "cell_type": "code",
      "execution_count": null,
      "metadata": {
        "id": "M6CFkHrQeSpz",
        "outputId": "50ec9e2a-5660-49c7-edd2-f246be9e0f65"
      },
      "outputs": [
        {
          "data": {
            "image/png": "[encoded data removed]",
            "text/plain": [
              "<Figure size 576x432 with 1 Axes>"
            ]
          },
          "metadata": {
            "needs_background": "light"
          },
          "output_type": "display_data"
        }
      ],
      "source": [
        "plt.figure(figsize=(8, 6))\n",
        "sns.barplot(x='Gender',y='total',data=x,color='r')\n",
        "plt.xlabel('Gender')\n",
        "plt.ylabel('Total Count')\n",
        "plt.title('Gender Count')\n",
        "plt.show()"
      ]
    },
    {
      "cell_type": "markdown",
      "source": [
        "**2.TOTAL EMPLOYEES IN EACH DEPARTMENT**"
      ],
      "metadata": {
        "id": "WAfJRPoNiF96"
      }
    },
    {
      "cell_type": "code",
      "execution_count": null,
      "metadata": {
        "id": "ep6zqhGleSpz",
        "outputId": "b7ce59a2-00b7-4079-f463-d8268f1b4c01"
      },
      "outputs": [
        {
          "data": {
            "text/html": [
              "<div>\n",
              "<style scoped>\n",
              "    .dataframe tbody tr th:only-of-type {\n",
              "        vertical-align: middle;\n",
              "    }\n",
              "\n",
              "    .dataframe tbody tr th {\n",
              "        vertical-align: top;\n",
              "    }\n",
              "\n",
              "    .dataframe thead th {\n",
              "        text-align: right;\n",
              "    }\n",
              "</style>\n",
              "<table border=\"1\" class=\"dataframe\">\n",
              "  <thead>\n",
              "    <tr style=\"text-align: right;\">\n",
              "      <th></th>\n",
              "      <th>Department</th>\n",
              "      <th>total</th>\n",
              "    </tr>\n",
              "  </thead>\n",
              "  <tbody>\n",
              "    <tr>\n",
              "      <th>0</th>\n",
              "      <td>Finance</td>\n",
              "      <td>8671</td>\n",
              "    </tr>\n",
              "    <tr>\n",
              "      <th>1</th>\n",
              "      <td>Legal</td>\n",
              "      <td>8622</td>\n",
              "    </tr>\n",
              "    <tr>\n",
              "      <th>2</th>\n",
              "      <td>Operations</td>\n",
              "      <td>8571</td>\n",
              "    </tr>\n",
              "    <tr>\n",
              "      <th>3</th>\n",
              "      <td>IT</td>\n",
              "      <td>8570</td>\n",
              "    </tr>\n",
              "    <tr>\n",
              "      <th>4</th>\n",
              "      <td>Marketing</td>\n",
              "      <td>8553</td>\n",
              "    </tr>\n",
              "    <tr>\n",
              "      <th>5</th>\n",
              "      <td>Customer Support</td>\n",
              "      <td>8552</td>\n",
              "    </tr>\n",
              "    <tr>\n",
              "      <th>6</th>\n",
              "      <td>Sales</td>\n",
              "      <td>8505</td>\n",
              "    </tr>\n",
              "    <tr>\n",
              "      <th>7</th>\n",
              "      <td>HR</td>\n",
              "      <td>8449</td>\n",
              "    </tr>\n",
              "    <tr>\n",
              "      <th>8</th>\n",
              "      <td>Engineering</td>\n",
              "      <td>8405</td>\n",
              "    </tr>\n",
              "  </tbody>\n",
              "</table>\n",
              "</div>"
            ],
            "text/plain": [
              "         Department  total\n",
              "0           Finance   8671\n",
              "1             Legal   8622\n",
              "2        Operations   8571\n",
              "3                IT   8570\n",
              "4         Marketing   8553\n",
              "5  Customer Support   8552\n",
              "6             Sales   8505\n",
              "7                HR   8449\n",
              "8       Engineering   8405"
            ]
          },
          "execution_count": 13,
          "metadata": {},
          "output_type": "execute_result"
        }
      ],
      "source": [
        "x = pd.read_sql_query(\"SELECT Department, COUNT(*) AS total FROM employee_dataset GROUP BY Department ORDER BY total DESC\", db)\n",
        "x"
      ]
    },
    {
      "cell_type": "code",
      "execution_count": null,
      "metadata": {
        "id": "3UiJZMhieSp0",
        "outputId": "d3554985-b350-420a-f75f-235abd1865c4"
      },
      "outputs": [
        {
          "data": {
            "image/png": "[encoded data removed]",
            "text/plain": [
              "<Figure size 576x432 with 1 Axes>"
            ]
          },
          "metadata": {},
          "output_type": "display_data"
        }
      ],
      "source": [
        "plt.figure(figsize=(8, 6))\n",
        "plt.pie(x['total'], labels=x['Department'], autopct='%2.2f%%', startangle=140, colors=sns.color_palette(\"pastel\"))\n",
        "plt.title('Department-wise Employee Distribution')\n",
        "plt.show()"
      ]
    },
    {
      "cell_type": "markdown",
      "source": [
        "**3. TOTAL EMPLOYEES BASED ON JOB TITLE**"
      ],
      "metadata": {
        "id": "vJcYKAr-iYx5"
      }
    },
    {
      "cell_type": "code",
      "execution_count": null,
      "metadata": {
        "id": "vFoEgIpeeSp0",
        "outputId": "e8bbf00a-44a9-4f3b-ecfc-308d420cfc72"
      },
      "outputs": [
        {
          "data": {
            "text/html": [
              "<div>\n",
              "<style scoped>\n",
              "    .dataframe tbody tr th:only-of-type {\n",
              "        vertical-align: middle;\n",
              "    }\n",
              "\n",
              "    .dataframe tbody tr th {\n",
              "        vertical-align: top;\n",
              "    }\n",
              "\n",
              "    .dataframe thead th {\n",
              "        text-align: right;\n",
              "    }\n",
              "</style>\n",
              "<table border=\"1\" class=\"dataframe\">\n",
              "  <thead>\n",
              "    <tr style=\"text-align: right;\">\n",
              "      <th></th>\n",
              "      <th>job_title</th>\n",
              "      <th>total_strength</th>\n",
              "    </tr>\n",
              "  </thead>\n",
              "  <tbody>\n",
              "    <tr>\n",
              "      <th>0</th>\n",
              "      <td>Specialist</td>\n",
              "      <td>11195</td>\n",
              "    </tr>\n",
              "    <tr>\n",
              "      <th>1</th>\n",
              "      <td>Developer</td>\n",
              "      <td>10882</td>\n",
              "    </tr>\n",
              "    <tr>\n",
              "      <th>2</th>\n",
              "      <td>Analyst</td>\n",
              "      <td>10964</td>\n",
              "    </tr>\n",
              "    <tr>\n",
              "      <th>3</th>\n",
              "      <td>Manager</td>\n",
              "      <td>10990</td>\n",
              "    </tr>\n",
              "    <tr>\n",
              "      <th>4</th>\n",
              "      <td>Technician</td>\n",
              "      <td>10971</td>\n",
              "    </tr>\n",
              "    <tr>\n",
              "      <th>5</th>\n",
              "      <td>Engineer</td>\n",
              "      <td>10934</td>\n",
              "    </tr>\n",
              "    <tr>\n",
              "      <th>6</th>\n",
              "      <td>Consultant</td>\n",
              "      <td>10962</td>\n",
              "    </tr>\n",
              "  </tbody>\n",
              "</table>\n",
              "</div>"
            ],
            "text/plain": [
              "    job_title  total_strength\n",
              "0  Specialist           11195\n",
              "1   Developer           10882\n",
              "2     Analyst           10964\n",
              "3     Manager           10990\n",
              "4  Technician           10971\n",
              "5    Engineer           10934\n",
              "6  Consultant           10962"
            ]
          },
          "execution_count": 15,
          "metadata": {},
          "output_type": "execute_result"
        }
      ],
      "source": [
        "x=pd.read_sql_query(\"\"\"select job_title, count(*) as total_strength from employee_dataset group by job_title\"\"\",db)\n",
        "x"
      ]
    },
    {
      "cell_type": "markdown",
      "source": [
        "**4.TOTAL EMPLOYEES COUNT BASED ON EDUCATION LEVEL**"
      ],
      "metadata": {
        "id": "zMuZtW4nigxg"
      }
    },
    {
      "cell_type": "code",
      "execution_count": null,
      "metadata": {
        "id": "Xh4yoQtIeSp1",
        "outputId": "99f227f1-7f49-4eea-f1e9-37ae70e45ade"
      },
      "outputs": [
        {
          "data": {
            "text/html": [
              "<div>\n",
              "<style scoped>\n",
              "    .dataframe tbody tr th:only-of-type {\n",
              "        vertical-align: middle;\n",
              "    }\n",
              "\n",
              "    .dataframe tbody tr th {\n",
              "        vertical-align: top;\n",
              "    }\n",
              "\n",
              "    .dataframe thead th {\n",
              "        text-align: right;\n",
              "    }\n",
              "</style>\n",
              "<table border=\"1\" class=\"dataframe\">\n",
              "  <thead>\n",
              "    <tr style=\"text-align: right;\">\n",
              "      <th></th>\n",
              "      <th>Education_Level</th>\n",
              "      <th>total_count</th>\n",
              "    </tr>\n",
              "  </thead>\n",
              "  <tbody>\n",
              "    <tr>\n",
              "      <th>0</th>\n",
              "      <td>High School</td>\n",
              "      <td>23084</td>\n",
              "    </tr>\n",
              "    <tr>\n",
              "      <th>1</th>\n",
              "      <td>Bachelor</td>\n",
              "      <td>38458</td>\n",
              "    </tr>\n",
              "    <tr>\n",
              "      <th>2</th>\n",
              "      <td>Master</td>\n",
              "      <td>11503</td>\n",
              "    </tr>\n",
              "    <tr>\n",
              "      <th>3</th>\n",
              "      <td>PhD</td>\n",
              "      <td>3853</td>\n",
              "    </tr>\n",
              "  </tbody>\n",
              "</table>\n",
              "</div>"
            ],
            "text/plain": [
              "  Education_Level  total_count\n",
              "0     High School        23084\n",
              "1        Bachelor        38458\n",
              "2          Master        11503\n",
              "3             PhD         3853"
            ]
          },
          "execution_count": 16,
          "metadata": {},
          "output_type": "execute_result"
        }
      ],
      "source": [
        "x=pd.read_sql_query(\"\"\"select Education_Level, count(*) as total_count from employee_dataset group by Education_Level\"\"\",db)\n",
        "x"
      ]
    },
    {
      "cell_type": "code",
      "execution_count": null,
      "metadata": {
        "id": "Ml3fXlzMeSp1",
        "outputId": "06ae6ab3-ef9f-4e2d-e72b-598c3ba86efc"
      },
      "outputs": [
        {
          "data": {
            "image/png": "[encoded data removed]",
            "text/plain": [
              "<Figure size 432x288 with 1 Axes>"
            ]
          },
          "metadata": {
            "needs_background": "light"
          },
          "output_type": "display_data"
        }
      ],
      "source": [
        "sns.barplot(x='Education_Level',y='total_count',data=x,color='b')\n",
        "plt.xlabel('Education_Level')\n",
        "plt.ylabel('Total Count')\n",
        "plt.title('Education wise stength')\n",
        "plt.show()"
      ]
    },
    {
      "cell_type": "code",
      "execution_count": null,
      "metadata": {
        "id": "hn5u6jzneSp2",
        "outputId": "183e84f1-11d9-49a7-e63a-faa282d46fee"
      },
      "outputs": [
        {
          "data": {
            "text/html": [
              "<div>\n",
              "<style scoped>\n",
              "    .dataframe tbody tr th:only-of-type {\n",
              "        vertical-align: middle;\n",
              "    }\n",
              "\n",
              "    .dataframe tbody tr th {\n",
              "        vertical-align: top;\n",
              "    }\n",
              "\n",
              "    .dataframe thead th {\n",
              "        text-align: right;\n",
              "    }\n",
              "</style>\n",
              "<table border=\"1\" class=\"dataframe\">\n",
              "  <thead>\n",
              "    <tr style=\"text-align: right;\">\n",
              "      <th></th>\n",
              "      <th>Employee_ID</th>\n",
              "      <th>Department</th>\n",
              "      <th>Gender</th>\n",
              "      <th>Age</th>\n",
              "      <th>Job_Title</th>\n",
              "      <th>MyUnknownColumn</th>\n",
              "      <th>Years_At_Company</th>\n",
              "      <th>Education_Level</th>\n",
              "      <th>Performance_Score</th>\n",
              "      <th>Monthly_Salary</th>\n",
              "      <th>Work_Hours_Per_Week</th>\n",
              "      <th>Projects_Handled</th>\n",
              "      <th>Overtime_Hours</th>\n",
              "      <th>Sick_Days</th>\n",
              "      <th>Remote_Work_Frequency</th>\n",
              "      <th>Team_Size</th>\n",
              "      <th>Training_Hours</th>\n",
              "      <th>Promotions</th>\n",
              "      <th>Employee_Satisfaction_Score</th>\n",
              "    </tr>\n",
              "  </thead>\n",
              "  <tbody>\n",
              "    <tr>\n",
              "      <th>0</th>\n",
              "      <td>1</td>\n",
              "      <td>IT</td>\n",
              "      <td>Male</td>\n",
              "      <td>55</td>\n",
              "      <td>Specialist</td>\n",
              "      <td></td>\n",
              "      <td>2</td>\n",
              "      <td>High School</td>\n",
              "      <td>5</td>\n",
              "      <td>6750</td>\n",
              "      <td>33</td>\n",
              "      <td>32</td>\n",
              "      <td>22</td>\n",
              "      <td>2</td>\n",
              "      <td>0</td>\n",
              "      <td>14</td>\n",
              "      <td>66</td>\n",
              "      <td>0</td>\n",
              "      <td>2.63</td>\n",
              "    </tr>\n",
              "    <tr>\n",
              "      <th>1</th>\n",
              "      <td>2</td>\n",
              "      <td>Finance</td>\n",
              "      <td>Male</td>\n",
              "      <td>29</td>\n",
              "      <td>Developer</td>\n",
              "      <td></td>\n",
              "      <td>0</td>\n",
              "      <td>High School</td>\n",
              "      <td>5</td>\n",
              "      <td>7500</td>\n",
              "      <td>34</td>\n",
              "      <td>34</td>\n",
              "      <td>13</td>\n",
              "      <td>14</td>\n",
              "      <td>100</td>\n",
              "      <td>12</td>\n",
              "      <td>61</td>\n",
              "      <td>2</td>\n",
              "      <td>1.72</td>\n",
              "    </tr>\n",
              "    <tr>\n",
              "      <th>2</th>\n",
              "      <td>3</td>\n",
              "      <td>Finance</td>\n",
              "      <td>Male</td>\n",
              "      <td>55</td>\n",
              "      <td>Specialist</td>\n",
              "      <td></td>\n",
              "      <td>8</td>\n",
              "      <td>High School</td>\n",
              "      <td>3</td>\n",
              "      <td>5850</td>\n",
              "      <td>37</td>\n",
              "      <td>27</td>\n",
              "      <td>6</td>\n",
              "      <td>3</td>\n",
              "      <td>50</td>\n",
              "      <td>10</td>\n",
              "      <td>1</td>\n",
              "      <td>0</td>\n",
              "      <td>3.17</td>\n",
              "    </tr>\n",
              "    <tr>\n",
              "      <th>3</th>\n",
              "      <td>4</td>\n",
              "      <td>Customer Support</td>\n",
              "      <td>Female</td>\n",
              "      <td>48</td>\n",
              "      <td>Analyst</td>\n",
              "      <td></td>\n",
              "      <td>7</td>\n",
              "      <td>Bachelor</td>\n",
              "      <td>2</td>\n",
              "      <td>4800</td>\n",
              "      <td>52</td>\n",
              "      <td>10</td>\n",
              "      <td>28</td>\n",
              "      <td>12</td>\n",
              "      <td>100</td>\n",
              "      <td>10</td>\n",
              "      <td>0</td>\n",
              "      <td>1</td>\n",
              "      <td>1.86</td>\n",
              "    </tr>\n",
              "    <tr>\n",
              "      <th>4</th>\n",
              "      <td>5</td>\n",
              "      <td>Engineering</td>\n",
              "      <td>Female</td>\n",
              "      <td>36</td>\n",
              "      <td>Analyst</td>\n",
              "      <td></td>\n",
              "      <td>3</td>\n",
              "      <td>Bachelor</td>\n",
              "      <td>2</td>\n",
              "      <td>4800</td>\n",
              "      <td>38</td>\n",
              "      <td>11</td>\n",
              "      <td>29</td>\n",
              "      <td>13</td>\n",
              "      <td>100</td>\n",
              "      <td>15</td>\n",
              "      <td>9</td>\n",
              "      <td>1</td>\n",
              "      <td>1.25</td>\n",
              "    </tr>\n",
              "  </tbody>\n",
              "</table>\n",
              "</div>"
            ],
            "text/plain": [
              "   Employee_ID        Department  Gender  Age   Job_Title MyUnknownColumn  \\\n",
              "0            1                IT    Male   55  Specialist                   \n",
              "1            2           Finance    Male   29   Developer                   \n",
              "2            3           Finance    Male   55  Specialist                   \n",
              "3            4  Customer Support  Female   48     Analyst                   \n",
              "4            5       Engineering  Female   36     Analyst                   \n",
              "\n",
              "   Years_At_Company Education_Level  Performance_Score  Monthly_Salary  \\\n",
              "0                 2     High School                  5            6750   \n",
              "1                 0     High School                  5            7500   \n",
              "2                 8     High School                  3            5850   \n",
              "3                 7        Bachelor                  2            4800   \n",
              "4                 3        Bachelor                  2            4800   \n",
              "\n",
              "   Work_Hours_Per_Week  Projects_Handled  Overtime_Hours  Sick_Days  \\\n",
              "0                   33                32              22          2   \n",
              "1                   34                34              13         14   \n",
              "2                   37                27               6          3   \n",
              "3                   52                10              28         12   \n",
              "4                   38                11              29         13   \n",
              "\n",
              "   Remote_Work_Frequency  Team_Size  Training_Hours  Promotions  \\\n",
              "0                      0         14              66           0   \n",
              "1                    100         12              61           2   \n",
              "2                     50         10               1           0   \n",
              "3                    100         10               0           1   \n",
              "4                    100         15               9           1   \n",
              "\n",
              "   Employee_Satisfaction_Score  \n",
              "0                         2.63  \n",
              "1                         1.72  \n",
              "2                         3.17  \n",
              "3                         1.86  \n",
              "4                         1.25  "
            ]
          },
          "execution_count": 18,
          "metadata": {},
          "output_type": "execute_result"
        }
      ],
      "source": [
        "df.head()"
      ]
    },
    {
      "cell_type": "markdown",
      "source": [
        "**5.AVERAGE AGE OF EACH DEPATRMENT**"
      ],
      "metadata": {
        "id": "W-XnNRc5i5SY"
      }
    },
    {
      "cell_type": "code",
      "execution_count": null,
      "metadata": {
        "id": "XG7GCFukeSp2",
        "outputId": "9a3bf54e-5cd5-4ea1-b32a-cadfc0a5363f"
      },
      "outputs": [
        {
          "data": {
            "text/html": [
              "<div>\n",
              "<style scoped>\n",
              "    .dataframe tbody tr th:only-of-type {\n",
              "        vertical-align: middle;\n",
              "    }\n",
              "\n",
              "    .dataframe tbody tr th {\n",
              "        vertical-align: top;\n",
              "    }\n",
              "\n",
              "    .dataframe thead th {\n",
              "        text-align: right;\n",
              "    }\n",
              "</style>\n",
              "<table border=\"1\" class=\"dataframe\">\n",
              "  <thead>\n",
              "    <tr style=\"text-align: right;\">\n",
              "      <th></th>\n",
              "      <th>Department</th>\n",
              "      <th>Avg_age</th>\n",
              "    </tr>\n",
              "  </thead>\n",
              "  <tbody>\n",
              "    <tr>\n",
              "      <th>0</th>\n",
              "      <td>Marketing</td>\n",
              "      <td>41.1728</td>\n",
              "    </tr>\n",
              "    <tr>\n",
              "      <th>1</th>\n",
              "      <td>Engineering</td>\n",
              "      <td>41.1454</td>\n",
              "    </tr>\n",
              "    <tr>\n",
              "      <th>2</th>\n",
              "      <td>Operations</td>\n",
              "      <td>41.0253</td>\n",
              "    </tr>\n",
              "    <tr>\n",
              "      <th>3</th>\n",
              "      <td>HR</td>\n",
              "      <td>41.0245</td>\n",
              "    </tr>\n",
              "    <tr>\n",
              "      <th>4</th>\n",
              "      <td>Finance</td>\n",
              "      <td>41.0197</td>\n",
              "    </tr>\n",
              "    <tr>\n",
              "      <th>5</th>\n",
              "      <td>Legal</td>\n",
              "      <td>41.0160</td>\n",
              "    </tr>\n",
              "    <tr>\n",
              "      <th>6</th>\n",
              "      <td>IT</td>\n",
              "      <td>40.9912</td>\n",
              "    </tr>\n",
              "    <tr>\n",
              "      <th>7</th>\n",
              "      <td>Customer Support</td>\n",
              "      <td>40.8970</td>\n",
              "    </tr>\n",
              "    <tr>\n",
              "      <th>8</th>\n",
              "      <td>Sales</td>\n",
              "      <td>40.8323</td>\n",
              "    </tr>\n",
              "  </tbody>\n",
              "</table>\n",
              "</div>"
            ],
            "text/plain": [
              "         Department  Avg_age\n",
              "0         Marketing  41.1728\n",
              "1       Engineering  41.1454\n",
              "2        Operations  41.0253\n",
              "3                HR  41.0245\n",
              "4           Finance  41.0197\n",
              "5             Legal  41.0160\n",
              "6                IT  40.9912\n",
              "7  Customer Support  40.8970\n",
              "8             Sales  40.8323"
            ]
          },
          "execution_count": 19,
          "metadata": {},
          "output_type": "execute_result"
        }
      ],
      "source": [
        "x=pd.read_sql_query(\"\"\"select Department,avg(Age) as Avg_age from employee_dataset\n",
        "                        group by department order by Avg_age desc\"\"\",db)\n",
        "x"
      ]
    },
    {
      "cell_type": "markdown",
      "source": [
        "**6.AVERAGE WORKING YEARS OF EACH DEPARTMENT**"
      ],
      "metadata": {
        "id": "8LywcACIjImJ"
      }
    },
    {
      "cell_type": "code",
      "execution_count": null,
      "metadata": {
        "id": "45BRiQFxeSp4",
        "outputId": "f146eb6b-5c27-4d61-9af0-d3c19fbabca1"
      },
      "outputs": [
        {
          "data": {
            "text/html": [
              "<div>\n",
              "<style scoped>\n",
              "    .dataframe tbody tr th:only-of-type {\n",
              "        vertical-align: middle;\n",
              "    }\n",
              "\n",
              "    .dataframe tbody tr th {\n",
              "        vertical-align: top;\n",
              "    }\n",
              "\n",
              "    .dataframe thead th {\n",
              "        text-align: right;\n",
              "    }\n",
              "</style>\n",
              "<table border=\"1\" class=\"dataframe\">\n",
              "  <thead>\n",
              "    <tr style=\"text-align: right;\">\n",
              "      <th></th>\n",
              "      <th>Department</th>\n",
              "      <th>Avg_Yrs</th>\n",
              "    </tr>\n",
              "  </thead>\n",
              "  <tbody>\n",
              "    <tr>\n",
              "      <th>0</th>\n",
              "      <td>Marketing</td>\n",
              "      <td>4.5105</td>\n",
              "    </tr>\n",
              "    <tr>\n",
              "      <th>1</th>\n",
              "      <td>Customer Support</td>\n",
              "      <td>4.5078</td>\n",
              "    </tr>\n",
              "    <tr>\n",
              "      <th>2</th>\n",
              "      <td>Finance</td>\n",
              "      <td>4.5049</td>\n",
              "    </tr>\n",
              "    <tr>\n",
              "      <th>3</th>\n",
              "      <td>Legal</td>\n",
              "      <td>4.4973</td>\n",
              "    </tr>\n",
              "    <tr>\n",
              "      <th>4</th>\n",
              "      <td>Engineering</td>\n",
              "      <td>4.4783</td>\n",
              "    </tr>\n",
              "    <tr>\n",
              "      <th>5</th>\n",
              "      <td>Operations</td>\n",
              "      <td>4.4735</td>\n",
              "    </tr>\n",
              "    <tr>\n",
              "      <th>6</th>\n",
              "      <td>HR</td>\n",
              "      <td>4.4695</td>\n",
              "    </tr>\n",
              "    <tr>\n",
              "      <th>7</th>\n",
              "      <td>IT</td>\n",
              "      <td>4.4693</td>\n",
              "    </tr>\n",
              "    <tr>\n",
              "      <th>8</th>\n",
              "      <td>Sales</td>\n",
              "      <td>4.4474</td>\n",
              "    </tr>\n",
              "  </tbody>\n",
              "</table>\n",
              "</div>"
            ],
            "text/plain": [
              "         Department  Avg_Yrs\n",
              "0         Marketing   4.5105\n",
              "1  Customer Support   4.5078\n",
              "2           Finance   4.5049\n",
              "3             Legal   4.4973\n",
              "4       Engineering   4.4783\n",
              "5        Operations   4.4735\n",
              "6                HR   4.4695\n",
              "7                IT   4.4693\n",
              "8             Sales   4.4474"
            ]
          },
          "execution_count": 20,
          "metadata": {},
          "output_type": "execute_result"
        }
      ],
      "source": [
        "x=pd.read_sql_query(\"\"\"select Department,avg(Years_At_Company) as Avg_Yrs from employee_dataset\n",
        "                        group by department order by Avg_Yrs desc\"\"\",db)\n",
        "x"
      ]
    },
    {
      "cell_type": "markdown",
      "source": [
        "**7.AVERAGE WORKING YEARS OF EACH JOB**"
      ],
      "metadata": {
        "id": "QqznN1lpjT-2"
      }
    },
    {
      "cell_type": "code",
      "execution_count": null,
      "metadata": {
        "id": "8Hv-SpY4eSp5",
        "outputId": "db202585-64fd-41e5-de30-8dd352aa59d8"
      },
      "outputs": [
        {
          "data": {
            "text/html": [
              "<div>\n",
              "<style scoped>\n",
              "    .dataframe tbody tr th:only-of-type {\n",
              "        vertical-align: middle;\n",
              "    }\n",
              "\n",
              "    .dataframe tbody tr th {\n",
              "        vertical-align: top;\n",
              "    }\n",
              "\n",
              "    .dataframe thead th {\n",
              "        text-align: right;\n",
              "    }\n",
              "</style>\n",
              "<table border=\"1\" class=\"dataframe\">\n",
              "  <thead>\n",
              "    <tr style=\"text-align: right;\">\n",
              "      <th></th>\n",
              "      <th>Job_title</th>\n",
              "      <th>Avg_Yrs</th>\n",
              "    </tr>\n",
              "  </thead>\n",
              "  <tbody>\n",
              "    <tr>\n",
              "      <th>0</th>\n",
              "      <td>Technician</td>\n",
              "      <td>4.5250</td>\n",
              "    </tr>\n",
              "    <tr>\n",
              "      <th>1</th>\n",
              "      <td>Engineer</td>\n",
              "      <td>4.4945</td>\n",
              "    </tr>\n",
              "    <tr>\n",
              "      <th>2</th>\n",
              "      <td>Analyst</td>\n",
              "      <td>4.4901</td>\n",
              "    </tr>\n",
              "    <tr>\n",
              "      <th>3</th>\n",
              "      <td>Specialist</td>\n",
              "      <td>4.4885</td>\n",
              "    </tr>\n",
              "    <tr>\n",
              "      <th>4</th>\n",
              "      <td>Developer</td>\n",
              "      <td>4.4753</td>\n",
              "    </tr>\n",
              "    <tr>\n",
              "      <th>5</th>\n",
              "      <td>Consultant</td>\n",
              "      <td>4.4694</td>\n",
              "    </tr>\n",
              "    <tr>\n",
              "      <th>6</th>\n",
              "      <td>Manager</td>\n",
              "      <td>4.4476</td>\n",
              "    </tr>\n",
              "  </tbody>\n",
              "</table>\n",
              "</div>"
            ],
            "text/plain": [
              "    Job_title  Avg_Yrs\n",
              "0  Technician   4.5250\n",
              "1    Engineer   4.4945\n",
              "2     Analyst   4.4901\n",
              "3  Specialist   4.4885\n",
              "4   Developer   4.4753\n",
              "5  Consultant   4.4694\n",
              "6     Manager   4.4476"
            ]
          },
          "execution_count": 21,
          "metadata": {},
          "output_type": "execute_result"
        }
      ],
      "source": [
        "x=pd.read_sql_query(\"\"\"select Job_title,avg(Years_At_Company) as Avg_Yrs from employee_dataset\n",
        "                        group by job_title order by Avg_Yrs desc\"\"\",db)\n",
        "x"
      ]
    },
    {
      "cell_type": "markdown",
      "source": [
        "**8.AVERAGE PERFORMANCE SCORE OF EACH DEPARTMENT OUT OF 5**"
      ],
      "metadata": {
        "id": "G80M-h7RjbGw"
      }
    },
    {
      "cell_type": "code",
      "execution_count": null,
      "metadata": {
        "id": "NtSxhy60eSp6",
        "outputId": "d95c0ec6-189e-4ecd-88b9-ccbc35b42314"
      },
      "outputs": [
        {
          "data": {
            "text/html": [
              "<div>\n",
              "<style scoped>\n",
              "    .dataframe tbody tr th:only-of-type {\n",
              "        vertical-align: middle;\n",
              "    }\n",
              "\n",
              "    .dataframe tbody tr th {\n",
              "        vertical-align: top;\n",
              "    }\n",
              "\n",
              "    .dataframe thead th {\n",
              "        text-align: right;\n",
              "    }\n",
              "</style>\n",
              "<table border=\"1\" class=\"dataframe\">\n",
              "  <thead>\n",
              "    <tr style=\"text-align: right;\">\n",
              "      <th></th>\n",
              "      <th>Department</th>\n",
              "      <th>Avg_score</th>\n",
              "    </tr>\n",
              "  </thead>\n",
              "  <tbody>\n",
              "    <tr>\n",
              "      <th>0</th>\n",
              "      <td>Operations</td>\n",
              "      <td>3.0291</td>\n",
              "    </tr>\n",
              "    <tr>\n",
              "      <th>1</th>\n",
              "      <td>Engineering</td>\n",
              "      <td>3.0246</td>\n",
              "    </tr>\n",
              "    <tr>\n",
              "      <th>2</th>\n",
              "      <td>Sales</td>\n",
              "      <td>3.0116</td>\n",
              "    </tr>\n",
              "    <tr>\n",
              "      <th>3</th>\n",
              "      <td>IT</td>\n",
              "      <td>2.9980</td>\n",
              "    </tr>\n",
              "    <tr>\n",
              "      <th>4</th>\n",
              "      <td>HR</td>\n",
              "      <td>2.9956</td>\n",
              "    </tr>\n",
              "    <tr>\n",
              "      <th>5</th>\n",
              "      <td>Customer Support</td>\n",
              "      <td>2.9952</td>\n",
              "    </tr>\n",
              "    <tr>\n",
              "      <th>6</th>\n",
              "      <td>Legal</td>\n",
              "      <td>2.9885</td>\n",
              "    </tr>\n",
              "    <tr>\n",
              "      <th>7</th>\n",
              "      <td>Finance</td>\n",
              "      <td>2.9809</td>\n",
              "    </tr>\n",
              "    <tr>\n",
              "      <th>8</th>\n",
              "      <td>Marketing</td>\n",
              "      <td>2.9808</td>\n",
              "    </tr>\n",
              "  </tbody>\n",
              "</table>\n",
              "</div>"
            ],
            "text/plain": [
              "         Department  Avg_score\n",
              "0        Operations     3.0291\n",
              "1       Engineering     3.0246\n",
              "2             Sales     3.0116\n",
              "3                IT     2.9980\n",
              "4                HR     2.9956\n",
              "5  Customer Support     2.9952\n",
              "6             Legal     2.9885\n",
              "7           Finance     2.9809\n",
              "8         Marketing     2.9808"
            ]
          },
          "execution_count": 22,
          "metadata": {},
          "output_type": "execute_result"
        }
      ],
      "source": [
        "x=pd.read_sql_query(\"\"\"select Department,avg(Performance_Score) as Avg_score from employee_dataset\n",
        "                        group by Department order by Avg_score desc\"\"\",db)\n",
        "x"
      ]
    },
    {
      "cell_type": "markdown",
      "source": [
        "**9.HIGHEST MONTHLY SALARY**"
      ],
      "metadata": {
        "id": "FhLW2WLCljNa"
      }
    },
    {
      "cell_type": "code",
      "execution_count": null,
      "metadata": {
        "id": "rR1E1qdueSp8",
        "outputId": "4d4a0c17-90cd-4acc-9339-0bad50e568f3"
      },
      "outputs": [
        {
          "data": {
            "text/html": [
              "<div>\n",
              "<style scoped>\n",
              "    .dataframe tbody tr th:only-of-type {\n",
              "        vertical-align: middle;\n",
              "    }\n",
              "\n",
              "    .dataframe tbody tr th {\n",
              "        vertical-align: top;\n",
              "    }\n",
              "\n",
              "    .dataframe thead th {\n",
              "        text-align: right;\n",
              "    }\n",
              "</style>\n",
              "<table border=\"1\" class=\"dataframe\">\n",
              "  <thead>\n",
              "    <tr style=\"text-align: right;\">\n",
              "      <th></th>\n",
              "      <th>Employee_ID</th>\n",
              "      <th>Department</th>\n",
              "      <th>Monthly_Salary</th>\n",
              "    </tr>\n",
              "  </thead>\n",
              "  <tbody>\n",
              "    <tr>\n",
              "      <th>0</th>\n",
              "      <td>22</td>\n",
              "      <td>Sales</td>\n",
              "      <td>9000</td>\n",
              "    </tr>\n",
              "    <tr>\n",
              "      <th>1</th>\n",
              "      <td>36</td>\n",
              "      <td>HR</td>\n",
              "      <td>9000</td>\n",
              "    </tr>\n",
              "    <tr>\n",
              "      <th>2</th>\n",
              "      <td>40</td>\n",
              "      <td>HR</td>\n",
              "      <td>9000</td>\n",
              "    </tr>\n",
              "    <tr>\n",
              "      <th>3</th>\n",
              "      <td>117</td>\n",
              "      <td>Legal</td>\n",
              "      <td>9000</td>\n",
              "    </tr>\n",
              "    <tr>\n",
              "      <th>4</th>\n",
              "      <td>119</td>\n",
              "      <td>IT</td>\n",
              "      <td>9000</td>\n",
              "    </tr>\n",
              "    <tr>\n",
              "      <th>...</th>\n",
              "      <td>...</td>\n",
              "      <td>...</td>\n",
              "      <td>...</td>\n",
              "    </tr>\n",
              "    <tr>\n",
              "      <th>4390</th>\n",
              "      <td>76750</td>\n",
              "      <td>Customer Support</td>\n",
              "      <td>9000</td>\n",
              "    </tr>\n",
              "    <tr>\n",
              "      <th>4391</th>\n",
              "      <td>76813</td>\n",
              "      <td>Marketing</td>\n",
              "      <td>9000</td>\n",
              "    </tr>\n",
              "    <tr>\n",
              "      <th>4392</th>\n",
              "      <td>76830</td>\n",
              "      <td>Marketing</td>\n",
              "      <td>9000</td>\n",
              "    </tr>\n",
              "    <tr>\n",
              "      <th>4393</th>\n",
              "      <td>76843</td>\n",
              "      <td>Engineering</td>\n",
              "      <td>9000</td>\n",
              "    </tr>\n",
              "    <tr>\n",
              "      <th>4394</th>\n",
              "      <td>76873</td>\n",
              "      <td>IT</td>\n",
              "      <td>9000</td>\n",
              "    </tr>\n",
              "  </tbody>\n",
              "</table>\n",
              "<p>4395 rows × 3 columns</p>\n",
              "</div>"
            ],
            "text/plain": [
              "      Employee_ID        Department  Monthly_Salary\n",
              "0              22             Sales            9000\n",
              "1              36                HR            9000\n",
              "2              40                HR            9000\n",
              "3             117             Legal            9000\n",
              "4             119                IT            9000\n",
              "...           ...               ...             ...\n",
              "4390        76750  Customer Support            9000\n",
              "4391        76813         Marketing            9000\n",
              "4392        76830         Marketing            9000\n",
              "4393        76843       Engineering            9000\n",
              "4394        76873                IT            9000\n",
              "\n",
              "[4395 rows x 3 columns]"
            ]
          },
          "execution_count": 23,
          "metadata": {},
          "output_type": "execute_result"
        }
      ],
      "source": [
        "#Find the highest salary\n",
        "pd.read_sql_query(\"\"\"SELECT Employee_ID, Department, Monthly_Salary\n",
        "                        FROM employee_dataset\n",
        "                        WHERE Monthly_Salary IN (\n",
        "                            SELECT MAX(Monthly_Salary)\n",
        "                            FROM employee_dataset\n",
        "                            GROUP BY Department)\"\"\",db)"
      ]
    },
    {
      "cell_type": "markdown",
      "source": [
        "**10.HIGHEST PACKAGE**"
      ],
      "metadata": {
        "id": "sotDM7bbloxZ"
      }
    },
    {
      "cell_type": "code",
      "execution_count": null,
      "metadata": {
        "id": "4URQ0Wk1eSp8",
        "outputId": "93d8c2c2-fccb-4e48-9d5d-9897870c48ce"
      },
      "outputs": [
        {
          "data": {
            "text/html": [
              "<div>\n",
              "<style scoped>\n",
              "    .dataframe tbody tr th:only-of-type {\n",
              "        vertical-align: middle;\n",
              "    }\n",
              "\n",
              "    .dataframe tbody tr th {\n",
              "        vertical-align: top;\n",
              "    }\n",
              "\n",
              "    .dataframe thead th {\n",
              "        text-align: right;\n",
              "    }\n",
              "</style>\n",
              "<table border=\"1\" class=\"dataframe\">\n",
              "  <thead>\n",
              "    <tr style=\"text-align: right;\">\n",
              "      <th></th>\n",
              "      <th>Highest_Package</th>\n",
              "    </tr>\n",
              "  </thead>\n",
              "  <tbody>\n",
              "    <tr>\n",
              "      <th>0</th>\n",
              "      <td>108000</td>\n",
              "    </tr>\n",
              "  </tbody>\n",
              "</table>\n",
              "</div>"
            ],
            "text/plain": [
              "   Highest_Package\n",
              "0           108000"
            ]
          },
          "execution_count": 24,
          "metadata": {},
          "output_type": "execute_result"
        }
      ],
      "source": [
        "pd.read_sql_query(\"\"\"select max(Monthly_salary)*12 as Highest_Package from employee_dataset\"\"\",db)"
      ]
    },
    {
      "cell_type": "markdown",
      "source": [
        "**11.AVERAGE SALARY PER MONTH FOR EACH JOB TITLE.**"
      ],
      "metadata": {
        "id": "fSIY0vqRl0X0"
      }
    },
    {
      "cell_type": "code",
      "execution_count": null,
      "metadata": {
        "id": "_PEAzvweeSp9"
      },
      "outputs": [],
      "source": [
        "#Get the average salary per month for each job title.\n",
        "x=pd.read_sql_query(\"\"\"SELECT Job_Title, AVG(Monthly_Salary) AS Avg_Salary\n",
        "                        FROM employee_dataset\n",
        "                        GROUP BY Job_Title\"\"\",db)"
      ]
    },
    {
      "cell_type": "code",
      "execution_count": null,
      "metadata": {
        "id": "0Ay5FBkxeSp9",
        "outputId": "1df924da-51bd-4b9f-f812-6883b520c4a1"
      },
      "outputs": [
        {
          "data": {
            "image/png": "[encoded data removed]",
            "text/plain": [
              "<Figure size 720x432 with 1 Axes>"
            ]
          },
          "metadata": {
            "needs_background": "light"
          },
          "output_type": "display_data"
        }
      ],
      "source": [
        "plt.figure(figsize=(10, 6))\n",
        "sns.barplot(x='Job_Title',y='Avg_Salary',data=x,color='orange')\n",
        "plt.xlabel('Job_Title')\n",
        "plt.ylabel('Avg_Salary')\n",
        "plt.title('Job v/s Salary')\n",
        "plt.show()"
      ]
    },
    {
      "cell_type": "markdown",
      "source": [
        "**13.EMPLOYEES GETTING MORE THAN AVG SALARY**"
      ],
      "metadata": {
        "id": "4lIRTAy7mlH0"
      }
    },
    {
      "cell_type": "code",
      "execution_count": null,
      "metadata": {
        "id": "wqIMS9GyeSp9",
        "outputId": "f0517b50-22a1-4b5e-c11d-7d8a903aad1c"
      },
      "outputs": [
        {
          "name": "stdout",
          "output_type": "stream",
          "text": [
            "Total Employees who are getting more than avg salary is:  39505\n"
          ]
        }
      ],
      "source": [
        "x=pd.read_sql_query(\"\"\"select employee_id, monthly_salary from employee_dataset\n",
        "                    where monthly_salary>(select avg(monthly_salary) from employee_dataset)\"\"\",db)\n",
        "print(\"Total Employees who are getting more than avg salary is: \",len(x))"
      ]
    },
    {
      "cell_type": "code",
      "execution_count": null,
      "metadata": {
        "id": "0n1GIwtkeSp9",
        "outputId": "4c22cbec-da55-4739-a183-2bb7fb75dcd8"
      },
      "outputs": [
        {
          "data": {
            "text/html": [
              "<div>\n",
              "<style scoped>\n",
              "    .dataframe tbody tr th:only-of-type {\n",
              "        vertical-align: middle;\n",
              "    }\n",
              "\n",
              "    .dataframe tbody tr th {\n",
              "        vertical-align: top;\n",
              "    }\n",
              "\n",
              "    .dataframe thead th {\n",
              "        text-align: right;\n",
              "    }\n",
              "</style>\n",
              "<table border=\"1\" class=\"dataframe\">\n",
              "  <thead>\n",
              "    <tr style=\"text-align: right;\">\n",
              "      <th></th>\n",
              "      <th>Employee_ID</th>\n",
              "      <th>Department</th>\n",
              "      <th>Gender</th>\n",
              "      <th>Age</th>\n",
              "      <th>Job_Title</th>\n",
              "      <th>MyUnknownColumn</th>\n",
              "      <th>Years_At_Company</th>\n",
              "      <th>Education_Level</th>\n",
              "      <th>Performance_Score</th>\n",
              "      <th>Monthly_Salary</th>\n",
              "      <th>Work_Hours_Per_Week</th>\n",
              "      <th>Projects_Handled</th>\n",
              "      <th>Overtime_Hours</th>\n",
              "      <th>Sick_Days</th>\n",
              "      <th>Remote_Work_Frequency</th>\n",
              "      <th>Team_Size</th>\n",
              "      <th>Training_Hours</th>\n",
              "      <th>Promotions</th>\n",
              "      <th>Employee_Satisfaction_Score</th>\n",
              "    </tr>\n",
              "  </thead>\n",
              "  <tbody>\n",
              "    <tr>\n",
              "      <th>0</th>\n",
              "      <td>1</td>\n",
              "      <td>IT</td>\n",
              "      <td>Male</td>\n",
              "      <td>55</td>\n",
              "      <td>Specialist</td>\n",
              "      <td></td>\n",
              "      <td>2</td>\n",
              "      <td>High School</td>\n",
              "      <td>5</td>\n",
              "      <td>6750</td>\n",
              "      <td>33</td>\n",
              "      <td>32</td>\n",
              "      <td>22</td>\n",
              "      <td>2</td>\n",
              "      <td>0</td>\n",
              "      <td>14</td>\n",
              "      <td>66</td>\n",
              "      <td>0</td>\n",
              "      <td>2.63</td>\n",
              "    </tr>\n",
              "    <tr>\n",
              "      <th>1</th>\n",
              "      <td>2</td>\n",
              "      <td>Finance</td>\n",
              "      <td>Male</td>\n",
              "      <td>29</td>\n",
              "      <td>Developer</td>\n",
              "      <td></td>\n",
              "      <td>0</td>\n",
              "      <td>High School</td>\n",
              "      <td>5</td>\n",
              "      <td>7500</td>\n",
              "      <td>34</td>\n",
              "      <td>34</td>\n",
              "      <td>13</td>\n",
              "      <td>14</td>\n",
              "      <td>100</td>\n",
              "      <td>12</td>\n",
              "      <td>61</td>\n",
              "      <td>2</td>\n",
              "      <td>1.72</td>\n",
              "    </tr>\n",
              "    <tr>\n",
              "      <th>2</th>\n",
              "      <td>3</td>\n",
              "      <td>Finance</td>\n",
              "      <td>Male</td>\n",
              "      <td>55</td>\n",
              "      <td>Specialist</td>\n",
              "      <td></td>\n",
              "      <td>8</td>\n",
              "      <td>High School</td>\n",
              "      <td>3</td>\n",
              "      <td>5850</td>\n",
              "      <td>37</td>\n",
              "      <td>27</td>\n",
              "      <td>6</td>\n",
              "      <td>3</td>\n",
              "      <td>50</td>\n",
              "      <td>10</td>\n",
              "      <td>1</td>\n",
              "      <td>0</td>\n",
              "      <td>3.17</td>\n",
              "    </tr>\n",
              "    <tr>\n",
              "      <th>3</th>\n",
              "      <td>4</td>\n",
              "      <td>Customer Support</td>\n",
              "      <td>Female</td>\n",
              "      <td>48</td>\n",
              "      <td>Analyst</td>\n",
              "      <td></td>\n",
              "      <td>7</td>\n",
              "      <td>Bachelor</td>\n",
              "      <td>2</td>\n",
              "      <td>4800</td>\n",
              "      <td>52</td>\n",
              "      <td>10</td>\n",
              "      <td>28</td>\n",
              "      <td>12</td>\n",
              "      <td>100</td>\n",
              "      <td>10</td>\n",
              "      <td>0</td>\n",
              "      <td>1</td>\n",
              "      <td>1.86</td>\n",
              "    </tr>\n",
              "    <tr>\n",
              "      <th>4</th>\n",
              "      <td>5</td>\n",
              "      <td>Engineering</td>\n",
              "      <td>Female</td>\n",
              "      <td>36</td>\n",
              "      <td>Analyst</td>\n",
              "      <td></td>\n",
              "      <td>3</td>\n",
              "      <td>Bachelor</td>\n",
              "      <td>2</td>\n",
              "      <td>4800</td>\n",
              "      <td>38</td>\n",
              "      <td>11</td>\n",
              "      <td>29</td>\n",
              "      <td>13</td>\n",
              "      <td>100</td>\n",
              "      <td>15</td>\n",
              "      <td>9</td>\n",
              "      <td>1</td>\n",
              "      <td>1.25</td>\n",
              "    </tr>\n",
              "  </tbody>\n",
              "</table>\n",
              "</div>"
            ],
            "text/plain": [
              "   Employee_ID        Department  Gender  Age   Job_Title MyUnknownColumn  \\\n",
              "0            1                IT    Male   55  Specialist                   \n",
              "1            2           Finance    Male   29   Developer                   \n",
              "2            3           Finance    Male   55  Specialist                   \n",
              "3            4  Customer Support  Female   48     Analyst                   \n",
              "4            5       Engineering  Female   36     Analyst                   \n",
              "\n",
              "   Years_At_Company Education_Level  Performance_Score  Monthly_Salary  \\\n",
              "0                 2     High School                  5            6750   \n",
              "1                 0     High School                  5            7500   \n",
              "2                 8     High School                  3            5850   \n",
              "3                 7        Bachelor                  2            4800   \n",
              "4                 3        Bachelor                  2            4800   \n",
              "\n",
              "   Work_Hours_Per_Week  Projects_Handled  Overtime_Hours  Sick_Days  \\\n",
              "0                   33                32              22          2   \n",
              "1                   34                34              13         14   \n",
              "2                   37                27               6          3   \n",
              "3                   52                10              28         12   \n",
              "4                   38                11              29         13   \n",
              "\n",
              "   Remote_Work_Frequency  Team_Size  Training_Hours  Promotions  \\\n",
              "0                      0         14              66           0   \n",
              "1                    100         12              61           2   \n",
              "2                     50         10               1           0   \n",
              "3                    100         10               0           1   \n",
              "4                    100         15               9           1   \n",
              "\n",
              "   Employee_Satisfaction_Score  \n",
              "0                         2.63  \n",
              "1                         1.72  \n",
              "2                         3.17  \n",
              "3                         1.86  \n",
              "4                         1.25  "
            ]
          },
          "execution_count": 28,
          "metadata": {},
          "output_type": "execute_result"
        }
      ],
      "source": [
        "df.head()"
      ]
    },
    {
      "cell_type": "markdown",
      "source": [
        "**14.EMPLOYESS MORE THAN 5 YRS AT COMPANY BUT NO PROMOTION**"
      ],
      "metadata": {
        "id": "IjkCp78RmvpE"
      }
    },
    {
      "cell_type": "code",
      "execution_count": null,
      "metadata": {
        "id": "noR5xTxueSp-",
        "outputId": "b4cf12c6-e280-4809-d21c-82f96028b516"
      },
      "outputs": [
        {
          "data": {
            "text/html": [
              "<div>\n",
              "<style scoped>\n",
              "    .dataframe tbody tr th:only-of-type {\n",
              "        vertical-align: middle;\n",
              "    }\n",
              "\n",
              "    .dataframe tbody tr th {\n",
              "        vertical-align: top;\n",
              "    }\n",
              "\n",
              "    .dataframe thead th {\n",
              "        text-align: right;\n",
              "    }\n",
              "</style>\n",
              "<table border=\"1\" class=\"dataframe\">\n",
              "  <thead>\n",
              "    <tr style=\"text-align: right;\">\n",
              "      <th></th>\n",
              "      <th>employee_id</th>\n",
              "      <th>years_at_company</th>\n",
              "    </tr>\n",
              "  </thead>\n",
              "  <tbody>\n",
              "    <tr>\n",
              "      <th>0</th>\n",
              "      <td>3</td>\n",
              "      <td>8</td>\n",
              "    </tr>\n",
              "    <tr>\n",
              "      <th>1</th>\n",
              "      <td>6</td>\n",
              "      <td>8</td>\n",
              "    </tr>\n",
              "    <tr>\n",
              "      <th>2</th>\n",
              "      <td>8</td>\n",
              "      <td>9</td>\n",
              "    </tr>\n",
              "    <tr>\n",
              "      <th>3</th>\n",
              "      <td>12</td>\n",
              "      <td>9</td>\n",
              "    </tr>\n",
              "    <tr>\n",
              "      <th>4</th>\n",
              "      <td>19</td>\n",
              "      <td>8</td>\n",
              "    </tr>\n",
              "    <tr>\n",
              "      <th>...</th>\n",
              "      <td>...</td>\n",
              "      <td>...</td>\n",
              "    </tr>\n",
              "    <tr>\n",
              "      <th>10207</th>\n",
              "      <td>76867</td>\n",
              "      <td>7</td>\n",
              "    </tr>\n",
              "    <tr>\n",
              "      <th>10208</th>\n",
              "      <td>76870</td>\n",
              "      <td>8</td>\n",
              "    </tr>\n",
              "    <tr>\n",
              "      <th>10209</th>\n",
              "      <td>76874</td>\n",
              "      <td>6</td>\n",
              "    </tr>\n",
              "    <tr>\n",
              "      <th>10210</th>\n",
              "      <td>76888</td>\n",
              "      <td>9</td>\n",
              "    </tr>\n",
              "    <tr>\n",
              "      <th>10211</th>\n",
              "      <td>76895</td>\n",
              "      <td>6</td>\n",
              "    </tr>\n",
              "  </tbody>\n",
              "</table>\n",
              "<p>10212 rows × 2 columns</p>\n",
              "</div>"
            ],
            "text/plain": [
              "       employee_id  years_at_company\n",
              "0                3                 8\n",
              "1                6                 8\n",
              "2                8                 9\n",
              "3               12                 9\n",
              "4               19                 8\n",
              "...            ...               ...\n",
              "10207        76867                 7\n",
              "10208        76870                 8\n",
              "10209        76874                 6\n",
              "10210        76888                 9\n",
              "10211        76895                 6\n",
              "\n",
              "[10212 rows x 2 columns]"
            ]
          },
          "execution_count": 29,
          "metadata": {},
          "output_type": "execute_result"
        }
      ],
      "source": [
        "#Find employees who have more than 5 years at the company but haven't received any promotions.\n",
        "x=pd.read_sql_query(\"\"\"select employee_id,years_at_company from employee_dataset\n",
        "                        where years_at_company>5 and Promotions=0 \"\"\",db)\n",
        "x"
      ]
    },
    {
      "cell_type": "code",
      "execution_count": null,
      "metadata": {
        "id": "O4pii1oceSp-",
        "outputId": "9b1c5f18-0d44-4da9-ea56-2aa60d28124a"
      },
      "outputs": [
        {
          "name": "stdout",
          "output_type": "stream",
          "text": [
            "Total employees who have more than 5 years at the company but haven't received any promotions 10212\n"
          ]
        }
      ],
      "source": [
        "print(\"Total employees who have more than 5 years at the company but haven't received any promotions\",len(x))"
      ]
    },
    {
      "cell_type": "markdown",
      "source": [
        "**15.TOTAL PROMOTIONS BY DEPARTMENT**"
      ],
      "metadata": {
        "id": "LEpWvhMHm8p6"
      }
    },
    {
      "cell_type": "code",
      "execution_count": null,
      "metadata": {
        "id": "FrJbhxVQeSp-",
        "outputId": "e564849d-7063-407a-f430-5e7b1fe9df87"
      },
      "outputs": [
        {
          "data": {
            "text/html": [
              "<div>\n",
              "<style scoped>\n",
              "    .dataframe tbody tr th:only-of-type {\n",
              "        vertical-align: middle;\n",
              "    }\n",
              "\n",
              "    .dataframe tbody tr th {\n",
              "        vertical-align: top;\n",
              "    }\n",
              "\n",
              "    .dataframe thead th {\n",
              "        text-align: right;\n",
              "    }\n",
              "</style>\n",
              "<table border=\"1\" class=\"dataframe\">\n",
              "  <thead>\n",
              "    <tr style=\"text-align: right;\">\n",
              "      <th></th>\n",
              "      <th>Department</th>\n",
              "      <th>Total_Promotions</th>\n",
              "    </tr>\n",
              "  </thead>\n",
              "  <tbody>\n",
              "    <tr>\n",
              "      <th>0</th>\n",
              "      <td>Finance</td>\n",
              "      <td>8680.0</td>\n",
              "    </tr>\n",
              "    <tr>\n",
              "      <th>1</th>\n",
              "      <td>Legal</td>\n",
              "      <td>8619.0</td>\n",
              "    </tr>\n",
              "    <tr>\n",
              "      <th>2</th>\n",
              "      <td>Customer Support</td>\n",
              "      <td>8614.0</td>\n",
              "    </tr>\n",
              "    <tr>\n",
              "      <th>3</th>\n",
              "      <td>IT</td>\n",
              "      <td>8599.0</td>\n",
              "    </tr>\n",
              "    <tr>\n",
              "      <th>4</th>\n",
              "      <td>Operations</td>\n",
              "      <td>8570.0</td>\n",
              "    </tr>\n",
              "    <tr>\n",
              "      <th>5</th>\n",
              "      <td>Marketing</td>\n",
              "      <td>8548.0</td>\n",
              "    </tr>\n",
              "    <tr>\n",
              "      <th>6</th>\n",
              "      <td>Sales</td>\n",
              "      <td>8501.0</td>\n",
              "    </tr>\n",
              "    <tr>\n",
              "      <th>7</th>\n",
              "      <td>HR</td>\n",
              "      <td>8417.0</td>\n",
              "    </tr>\n",
              "    <tr>\n",
              "      <th>8</th>\n",
              "      <td>Engineering</td>\n",
              "      <td>8315.0</td>\n",
              "    </tr>\n",
              "  </tbody>\n",
              "</table>\n",
              "</div>"
            ],
            "text/plain": [
              "         Department  Total_Promotions\n",
              "0           Finance            8680.0\n",
              "1             Legal            8619.0\n",
              "2  Customer Support            8614.0\n",
              "3                IT            8599.0\n",
              "4        Operations            8570.0\n",
              "5         Marketing            8548.0\n",
              "6             Sales            8501.0\n",
              "7                HR            8417.0\n",
              "8       Engineering            8315.0"
            ]
          },
          "execution_count": 31,
          "metadata": {},
          "output_type": "execute_result"
        }
      ],
      "source": [
        "pd.read_sql_query(\"\"\"select Department, sum(Promotions) as Total_Promotions\n",
        "                     from employee_dataset group by department\n",
        "                     order by Total_Promotions desc\"\"\",db)"
      ]
    },
    {
      "cell_type": "markdown",
      "source": [
        "**16.EMPLOYESS COUNT WITH LESS NUMBER OF SICK LEAVES**"
      ],
      "metadata": {
        "id": "7NOS8k49nI8i"
      }
    },
    {
      "cell_type": "code",
      "execution_count": null,
      "metadata": {
        "id": "_WGc7SmYeSp_"
      },
      "outputs": [],
      "source": [
        "#employees who have taken the least number of sick days in their department.\n",
        "x=pd.read_sql_query(\"\"\"select Employee_ID, Department from employee_dataset where sick_days <2\"\"\",db)"
      ]
    },
    {
      "cell_type": "code",
      "execution_count": null,
      "metadata": {
        "id": "GLkqqQpreSp_",
        "outputId": "0a5f8bbf-caf9-443f-a546-aa8f9ce004bf"
      },
      "outputs": [
        {
          "data": {
            "text/plain": [
              "10309"
            ]
          },
          "execution_count": 37,
          "metadata": {},
          "output_type": "execute_result"
        }
      ],
      "source": [
        "len(x)"
      ]
    },
    {
      "cell_type": "markdown",
      "source": [
        "**17.DEPARTMENT WITH HIGHEST NUMBER OF AVG SATISFACTION SCORE**"
      ],
      "metadata": {
        "id": "UuxYApwDnast"
      }
    },
    {
      "cell_type": "code",
      "execution_count": null,
      "metadata": {
        "id": "71e2eeYJeSqA"
      },
      "outputs": [],
      "source": [
        "#Find the top department with the highest average employee satisfaction score\n",
        "x=pd.read_sql_query(\"\"\"select department,avg(Employee_Satisfaction_Score) as Avg_SS from employee_dataset\n",
        "                        group by department order by Avg_SS desc limit 1\"\"\",db)"
      ]
    },
    {
      "cell_type": "code",
      "execution_count": null,
      "metadata": {
        "id": "CwVOhp3ReSqA",
        "outputId": "7a1335f1-d3ec-487f-a838-db4460b4f2f9"
      },
      "outputs": [
        {
          "data": {
            "text/html": [
              "<div>\n",
              "<style scoped>\n",
              "    .dataframe tbody tr th:only-of-type {\n",
              "        vertical-align: middle;\n",
              "    }\n",
              "\n",
              "    .dataframe tbody tr th {\n",
              "        vertical-align: top;\n",
              "    }\n",
              "\n",
              "    .dataframe thead th {\n",
              "        text-align: right;\n",
              "    }\n",
              "</style>\n",
              "<table border=\"1\" class=\"dataframe\">\n",
              "  <thead>\n",
              "    <tr style=\"text-align: right;\">\n",
              "      <th></th>\n",
              "      <th>department</th>\n",
              "      <th>Avg_SS</th>\n",
              "    </tr>\n",
              "  </thead>\n",
              "  <tbody>\n",
              "    <tr>\n",
              "      <th>0</th>\n",
              "      <td>Operations</td>\n",
              "      <td>3.030814</td>\n",
              "    </tr>\n",
              "  </tbody>\n",
              "</table>\n",
              "</div>"
            ],
            "text/plain": [
              "   department    Avg_SS\n",
              "0  Operations  3.030814"
            ]
          },
          "execution_count": 41,
          "metadata": {},
          "output_type": "execute_result"
        }
      ],
      "source": [
        "x"
      ]
    },
    {
      "cell_type": "markdown",
      "source": [
        "**18.EMPLOYEES WHO WORK MORE THAN 50 HOURS PER WEEK AND HAVE HANDLED MORE THAN 15 PROJECTS**"
      ],
      "metadata": {
        "id": "Fbe1DQR5nuZT"
      }
    },
    {
      "cell_type": "code",
      "execution_count": null,
      "metadata": {
        "id": "ZlP8F5cneSqA"
      },
      "outputs": [],
      "source": [
        "#Find employees who work more than 50 hours per week and have handled more than 15 projects.\n",
        "x=pd.read_sql_query(\"\"\"SELECT Employee_ID, Work_Hours_Per_Week, Projects_Handled\n",
        "                    FROM employee_dataset WHERE Work_Hours_Per_Week > 50 AND Projects_Handled > 15\"\"\",db)"
      ]
    },
    {
      "cell_type": "code",
      "execution_count": null,
      "metadata": {
        "id": "S1lKz1-CeSqB",
        "outputId": "33d6cbfa-9b2d-48db-e338-9ee63976c798"
      },
      "outputs": [
        {
          "data": {
            "text/html": [
              "<div>\n",
              "<style scoped>\n",
              "    .dataframe tbody tr th:only-of-type {\n",
              "        vertical-align: middle;\n",
              "    }\n",
              "\n",
              "    .dataframe tbody tr th {\n",
              "        vertical-align: top;\n",
              "    }\n",
              "\n",
              "    .dataframe thead th {\n",
              "        text-align: right;\n",
              "    }\n",
              "</style>\n",
              "<table border=\"1\" class=\"dataframe\">\n",
              "  <thead>\n",
              "    <tr style=\"text-align: right;\">\n",
              "      <th></th>\n",
              "      <th>Employee_ID</th>\n",
              "      <th>Work_Hours_Per_Week</th>\n",
              "      <th>Projects_Handled</th>\n",
              "    </tr>\n",
              "  </thead>\n",
              "  <tbody>\n",
              "    <tr>\n",
              "      <th>0</th>\n",
              "      <td>7</td>\n",
              "      <td>55</td>\n",
              "      <td>20</td>\n",
              "    </tr>\n",
              "    <tr>\n",
              "      <th>1</th>\n",
              "      <td>9</td>\n",
              "      <td>51</td>\n",
              "      <td>23</td>\n",
              "    </tr>\n",
              "    <tr>\n",
              "      <th>2</th>\n",
              "      <td>26</td>\n",
              "      <td>59</td>\n",
              "      <td>24</td>\n",
              "    </tr>\n",
              "    <tr>\n",
              "      <th>3</th>\n",
              "      <td>27</td>\n",
              "      <td>59</td>\n",
              "      <td>24</td>\n",
              "    </tr>\n",
              "    <tr>\n",
              "      <th>4</th>\n",
              "      <td>37</td>\n",
              "      <td>53</td>\n",
              "      <td>42</td>\n",
              "    </tr>\n",
              "    <tr>\n",
              "      <th>...</th>\n",
              "      <td>...</td>\n",
              "      <td>...</td>\n",
              "      <td>...</td>\n",
              "    </tr>\n",
              "    <tr>\n",
              "      <th>16665</th>\n",
              "      <td>76886</td>\n",
              "      <td>58</td>\n",
              "      <td>30</td>\n",
              "    </tr>\n",
              "    <tr>\n",
              "      <th>16666</th>\n",
              "      <td>76891</td>\n",
              "      <td>57</td>\n",
              "      <td>16</td>\n",
              "    </tr>\n",
              "    <tr>\n",
              "      <th>16667</th>\n",
              "      <td>76894</td>\n",
              "      <td>58</td>\n",
              "      <td>27</td>\n",
              "    </tr>\n",
              "    <tr>\n",
              "      <th>16668</th>\n",
              "      <td>76895</td>\n",
              "      <td>56</td>\n",
              "      <td>32</td>\n",
              "    </tr>\n",
              "    <tr>\n",
              "      <th>16669</th>\n",
              "      <td>76896</td>\n",
              "      <td>58</td>\n",
              "      <td>18</td>\n",
              "    </tr>\n",
              "  </tbody>\n",
              "</table>\n",
              "<p>16670 rows × 3 columns</p>\n",
              "</div>"
            ],
            "text/plain": [
              "       Employee_ID  Work_Hours_Per_Week  Projects_Handled\n",
              "0                7                   55                20\n",
              "1                9                   51                23\n",
              "2               26                   59                24\n",
              "3               27                   59                24\n",
              "4               37                   53                42\n",
              "...            ...                  ...               ...\n",
              "16665        76886                   58                30\n",
              "16666        76891                   57                16\n",
              "16667        76894                   58                27\n",
              "16668        76895                   56                32\n",
              "16669        76896                   58                18\n",
              "\n",
              "[16670 rows x 3 columns]"
            ]
          },
          "execution_count": 50,
          "metadata": {},
          "output_type": "execute_result"
        }
      ],
      "source": [
        "x"
      ]
    },
    {
      "cell_type": "markdown",
      "source": [
        "**19.CATEGORIZING EMPLOYEE INTO NEW AND EXPERIENCED BASED ON YEAR AT COMPANY**"
      ],
      "metadata": {
        "id": "zDk8Zdl4n1fa"
      }
    },
    {
      "cell_type": "code",
      "execution_count": null,
      "metadata": {
        "id": "5pyChLCceSqB",
        "outputId": "21226072-5057-4f7f-b247-46d907cfe3c6"
      },
      "outputs": [
        {
          "data": {
            "text/html": [
              "<div>\n",
              "<style scoped>\n",
              "    .dataframe tbody tr th:only-of-type {\n",
              "        vertical-align: middle;\n",
              "    }\n",
              "\n",
              "    .dataframe tbody tr th {\n",
              "        vertical-align: top;\n",
              "    }\n",
              "\n",
              "    .dataframe thead th {\n",
              "        text-align: right;\n",
              "    }\n",
              "</style>\n",
              "<table border=\"1\" class=\"dataframe\">\n",
              "  <thead>\n",
              "    <tr style=\"text-align: right;\">\n",
              "      <th></th>\n",
              "      <th>New_Employees</th>\n",
              "      <th>Experienced_Employees</th>\n",
              "    </tr>\n",
              "  </thead>\n",
              "  <tbody>\n",
              "    <tr>\n",
              "      <th>0</th>\n",
              "      <td>23205</td>\n",
              "      <td>53693</td>\n",
              "    </tr>\n",
              "  </tbody>\n",
              "</table>\n",
              "</div>"
            ],
            "text/plain": [
              "   New_Employees  Experienced_Employees\n",
              "0          23205                  53693"
            ]
          },
          "execution_count": 54,
          "metadata": {},
          "output_type": "execute_result"
        }
      ],
      "source": [
        "x=pd.read_sql_query(\"\"\"SELECT\n",
        "                        COUNT(CASE WHEN Years_At_Company < 3 THEN 1 END) AS New_Employees,\n",
        "                        COUNT(CASE WHEN Years_At_Company >= 3 THEN 1 END) AS Experienced_Employees\n",
        "                    FROM employee_dataset;\"\"\",db)\n",
        "x"
      ]
    },
    {
      "cell_type": "code",
      "execution_count": null,
      "metadata": {
        "id": "RircaWPPeSqB",
        "outputId": "b347b1ec-9491-445a-d16a-69570fae1de3"
      },
      "outputs": [
        {
          "data": {
            "image/png": "[encoded data removed]",
            "text/plain": [
              "<Figure size 576x432 with 1 Axes>"
            ]
          },
          "metadata": {
            "needs_background": "light"
          },
          "output_type": "display_data"
        }
      ],
      "source": [
        "df1 = pd.DataFrame({'Category': ['New Employees', 'Experienced Employees'],\n",
        "                   'Count': [x['New_Employees'][0], x['Experienced_Employees'][0]]})\n",
        "plt.figure(figsize=(8, 6))\n",
        "ax = sns.barplot(x='Category', y='Count', data=df1, palette=\"dark\")\n",
        "plt.xlabel('Experience Level', fontsize=12)\n",
        "plt.ylabel('Number of Employees', fontsize=12)\n",
        "plt.title('New vs. Experienced Employees', fontsize=14)\n",
        "plt.grid(axis='y', linestyle='--', alpha=0.7)\n",
        "plt.show()"
      ]
    },
    {
      "cell_type": "markdown",
      "source": [
        "**20.DEPARTMENT WITH HIGHEST AVG PROJECTS**"
      ],
      "metadata": {
        "id": "iQnpV_8BoSW6"
      }
    },
    {
      "cell_type": "code",
      "execution_count": null,
      "metadata": {
        "id": "zR6TbMpheSqb",
        "outputId": "9b665e1b-7044-409b-ff9f-5a385f8c416c"
      },
      "outputs": [
        {
          "data": {
            "text/html": [
              "<div>\n",
              "<style scoped>\n",
              "    .dataframe tbody tr th:only-of-type {\n",
              "        vertical-align: middle;\n",
              "    }\n",
              "\n",
              "    .dataframe tbody tr th {\n",
              "        vertical-align: top;\n",
              "    }\n",
              "\n",
              "    .dataframe thead th {\n",
              "        text-align: right;\n",
              "    }\n",
              "</style>\n",
              "<table border=\"1\" class=\"dataframe\">\n",
              "  <thead>\n",
              "    <tr style=\"text-align: right;\">\n",
              "      <th></th>\n",
              "      <th>department</th>\n",
              "      <th>Avg_Projects</th>\n",
              "    </tr>\n",
              "  </thead>\n",
              "  <tbody>\n",
              "    <tr>\n",
              "      <th>0</th>\n",
              "      <td>Legal</td>\n",
              "      <td>24.1383</td>\n",
              "    </tr>\n",
              "  </tbody>\n",
              "</table>\n",
              "</div>"
            ],
            "text/plain": [
              "  department  Avg_Projects\n",
              "0      Legal       24.1383"
            ]
          },
          "execution_count": 67,
          "metadata": {},
          "output_type": "execute_result"
        }
      ],
      "source": [
        "pd.read_sql_query(\"\"\"select department, avg(Projects_handled) as Avg_Projects from employee_dataset\n",
        "                    group by department order by Avg_Projects limit 1\"\"\",db)"
      ]
    },
    {
      "cell_type": "markdown",
      "source": [
        "**21.EMPLOYEE_SATISFACTION_SCORE BASED ON EDUCATION LEVEL**"
      ],
      "metadata": {
        "id": "7rAlQsD1oZx0"
      }
    },
    {
      "cell_type": "code",
      "execution_count": null,
      "metadata": {
        "id": "NswNQZjJeSqc",
        "outputId": "1c6b44c3-1334-4e10-ea51-aba5d6277a2c"
      },
      "outputs": [
        {
          "data": {
            "text/html": [
              "<div>\n",
              "<style scoped>\n",
              "    .dataframe tbody tr th:only-of-type {\n",
              "        vertical-align: middle;\n",
              "    }\n",
              "\n",
              "    .dataframe tbody tr th {\n",
              "        vertical-align: top;\n",
              "    }\n",
              "\n",
              "    .dataframe thead th {\n",
              "        text-align: right;\n",
              "    }\n",
              "</style>\n",
              "<table border=\"1\" class=\"dataframe\">\n",
              "  <thead>\n",
              "    <tr style=\"text-align: right;\">\n",
              "      <th></th>\n",
              "      <th>Education_level</th>\n",
              "      <th>Score</th>\n",
              "    </tr>\n",
              "  </thead>\n",
              "  <tbody>\n",
              "    <tr>\n",
              "      <th>0</th>\n",
              "      <td>High School</td>\n",
              "      <td>3.005906</td>\n",
              "    </tr>\n",
              "    <tr>\n",
              "      <th>1</th>\n",
              "      <td>Bachelor</td>\n",
              "      <td>3.001011</td>\n",
              "    </tr>\n",
              "    <tr>\n",
              "      <th>2</th>\n",
              "      <td>PhD</td>\n",
              "      <td>2.997586</td>\n",
              "    </tr>\n",
              "    <tr>\n",
              "      <th>3</th>\n",
              "      <td>Master</td>\n",
              "      <td>2.994812</td>\n",
              "    </tr>\n",
              "  </tbody>\n",
              "</table>\n",
              "</div>"
            ],
            "text/plain": [
              "  Education_level     Score\n",
              "0     High School  3.005906\n",
              "1        Bachelor  3.001011\n",
              "2             PhD  2.997586\n",
              "3          Master  2.994812"
            ]
          },
          "execution_count": 64,
          "metadata": {},
          "output_type": "execute_result"
        }
      ],
      "source": [
        "pd.read_sql_query(\"\"\"select Education_level, avg(Employee_Satisfaction_Score) as Score from employee_dataset\n",
        "                    group by Education_level order by score desc\"\"\",db)"
      ]
    },
    {
      "cell_type": "code",
      "execution_count": null,
      "metadata": {
        "id": "PAReCHVgeSqc",
        "outputId": "a1687297-7513-4e10-fd69-c0294a4cbee0"
      },
      "outputs": [
        {
          "data": {
            "text/html": [
              "<div>\n",
              "<style scoped>\n",
              "    .dataframe tbody tr th:only-of-type {\n",
              "        vertical-align: middle;\n",
              "    }\n",
              "\n",
              "    .dataframe tbody tr th {\n",
              "        vertical-align: top;\n",
              "    }\n",
              "\n",
              "    .dataframe thead th {\n",
              "        text-align: right;\n",
              "    }\n",
              "</style>\n",
              "<table border=\"1\" class=\"dataframe\">\n",
              "  <thead>\n",
              "    <tr style=\"text-align: right;\">\n",
              "      <th></th>\n",
              "      <th>Employee_ID</th>\n",
              "      <th>Department</th>\n",
              "      <th>Gender</th>\n",
              "      <th>Age</th>\n",
              "      <th>Job_Title</th>\n",
              "      <th>MyUnknownColumn</th>\n",
              "      <th>Years_At_Company</th>\n",
              "      <th>Education_Level</th>\n",
              "      <th>Performance_Score</th>\n",
              "      <th>Monthly_Salary</th>\n",
              "      <th>Work_Hours_Per_Week</th>\n",
              "      <th>Projects_Handled</th>\n",
              "      <th>Overtime_Hours</th>\n",
              "      <th>Sick_Days</th>\n",
              "      <th>Remote_Work_Frequency</th>\n",
              "      <th>Team_Size</th>\n",
              "      <th>Training_Hours</th>\n",
              "      <th>Promotions</th>\n",
              "      <th>Employee_Satisfaction_Score</th>\n",
              "    </tr>\n",
              "  </thead>\n",
              "  <tbody>\n",
              "    <tr>\n",
              "      <th>0</th>\n",
              "      <td>1</td>\n",
              "      <td>IT</td>\n",
              "      <td>Male</td>\n",
              "      <td>55</td>\n",
              "      <td>Specialist</td>\n",
              "      <td></td>\n",
              "      <td>2</td>\n",
              "      <td>High School</td>\n",
              "      <td>5</td>\n",
              "      <td>6750</td>\n",
              "      <td>33</td>\n",
              "      <td>32</td>\n",
              "      <td>22</td>\n",
              "      <td>2</td>\n",
              "      <td>0</td>\n",
              "      <td>14</td>\n",
              "      <td>66</td>\n",
              "      <td>0</td>\n",
              "      <td>2.63</td>\n",
              "    </tr>\n",
              "    <tr>\n",
              "      <th>1</th>\n",
              "      <td>2</td>\n",
              "      <td>Finance</td>\n",
              "      <td>Male</td>\n",
              "      <td>29</td>\n",
              "      <td>Developer</td>\n",
              "      <td></td>\n",
              "      <td>0</td>\n",
              "      <td>High School</td>\n",
              "      <td>5</td>\n",
              "      <td>7500</td>\n",
              "      <td>34</td>\n",
              "      <td>34</td>\n",
              "      <td>13</td>\n",
              "      <td>14</td>\n",
              "      <td>100</td>\n",
              "      <td>12</td>\n",
              "      <td>61</td>\n",
              "      <td>2</td>\n",
              "      <td>1.72</td>\n",
              "    </tr>\n",
              "    <tr>\n",
              "      <th>2</th>\n",
              "      <td>3</td>\n",
              "      <td>Finance</td>\n",
              "      <td>Male</td>\n",
              "      <td>55</td>\n",
              "      <td>Specialist</td>\n",
              "      <td></td>\n",
              "      <td>8</td>\n",
              "      <td>High School</td>\n",
              "      <td>3</td>\n",
              "      <td>5850</td>\n",
              "      <td>37</td>\n",
              "      <td>27</td>\n",
              "      <td>6</td>\n",
              "      <td>3</td>\n",
              "      <td>50</td>\n",
              "      <td>10</td>\n",
              "      <td>1</td>\n",
              "      <td>0</td>\n",
              "      <td>3.17</td>\n",
              "    </tr>\n",
              "    <tr>\n",
              "      <th>3</th>\n",
              "      <td>4</td>\n",
              "      <td>Customer Support</td>\n",
              "      <td>Female</td>\n",
              "      <td>48</td>\n",
              "      <td>Analyst</td>\n",
              "      <td></td>\n",
              "      <td>7</td>\n",
              "      <td>Bachelor</td>\n",
              "      <td>2</td>\n",
              "      <td>4800</td>\n",
              "      <td>52</td>\n",
              "      <td>10</td>\n",
              "      <td>28</td>\n",
              "      <td>12</td>\n",
              "      <td>100</td>\n",
              "      <td>10</td>\n",
              "      <td>0</td>\n",
              "      <td>1</td>\n",
              "      <td>1.86</td>\n",
              "    </tr>\n",
              "    <tr>\n",
              "      <th>4</th>\n",
              "      <td>5</td>\n",
              "      <td>Engineering</td>\n",
              "      <td>Female</td>\n",
              "      <td>36</td>\n",
              "      <td>Analyst</td>\n",
              "      <td></td>\n",
              "      <td>3</td>\n",
              "      <td>Bachelor</td>\n",
              "      <td>2</td>\n",
              "      <td>4800</td>\n",
              "      <td>38</td>\n",
              "      <td>11</td>\n",
              "      <td>29</td>\n",
              "      <td>13</td>\n",
              "      <td>100</td>\n",
              "      <td>15</td>\n",
              "      <td>9</td>\n",
              "      <td>1</td>\n",
              "      <td>1.25</td>\n",
              "    </tr>\n",
              "  </tbody>\n",
              "</table>\n",
              "</div>"
            ],
            "text/plain": [
              "   Employee_ID        Department  Gender  Age   Job_Title MyUnknownColumn  \\\n",
              "0            1                IT    Male   55  Specialist                   \n",
              "1            2           Finance    Male   29   Developer                   \n",
              "2            3           Finance    Male   55  Specialist                   \n",
              "3            4  Customer Support  Female   48     Analyst                   \n",
              "4            5       Engineering  Female   36     Analyst                   \n",
              "\n",
              "   Years_At_Company Education_Level  Performance_Score  Monthly_Salary  \\\n",
              "0                 2     High School                  5            6750   \n",
              "1                 0     High School                  5            7500   \n",
              "2                 8     High School                  3            5850   \n",
              "3                 7        Bachelor                  2            4800   \n",
              "4                 3        Bachelor                  2            4800   \n",
              "\n",
              "   Work_Hours_Per_Week  Projects_Handled  Overtime_Hours  Sick_Days  \\\n",
              "0                   33                32              22          2   \n",
              "1                   34                34              13         14   \n",
              "2                   37                27               6          3   \n",
              "3                   52                10              28         12   \n",
              "4                   38                11              29         13   \n",
              "\n",
              "   Remote_Work_Frequency  Team_Size  Training_Hours  Promotions  \\\n",
              "0                      0         14              66           0   \n",
              "1                    100         12              61           2   \n",
              "2                     50         10               1           0   \n",
              "3                    100         10               0           1   \n",
              "4                    100         15               9           1   \n",
              "\n",
              "   Employee_Satisfaction_Score  \n",
              "0                         2.63  \n",
              "1                         1.72  \n",
              "2                         3.17  \n",
              "3                         1.86  \n",
              "4                         1.25  "
            ]
          },
          "execution_count": 69,
          "metadata": {},
          "output_type": "execute_result"
        }
      ],
      "source": [
        "df.head()"
      ]
    },
    {
      "cell_type": "markdown",
      "source": [
        "**22.PERFORMANCE SCORE BASED ON GENDER**"
      ],
      "metadata": {
        "id": "C_U_zKFhp3qP"
      }
    },
    {
      "cell_type": "code",
      "execution_count": null,
      "metadata": {
        "id": "vFHW7YXTeSqd",
        "outputId": "24e29b7c-94fc-4fd5-f9fc-9c2481198cdc"
      },
      "outputs": [
        {
          "data": {
            "text/html": [
              "<div>\n",
              "<style scoped>\n",
              "    .dataframe tbody tr th:only-of-type {\n",
              "        vertical-align: middle;\n",
              "    }\n",
              "\n",
              "    .dataframe tbody tr th {\n",
              "        vertical-align: top;\n",
              "    }\n",
              "\n",
              "    .dataframe thead th {\n",
              "        text-align: right;\n",
              "    }\n",
              "</style>\n",
              "<table border=\"1\" class=\"dataframe\">\n",
              "  <thead>\n",
              "    <tr style=\"text-align: right;\">\n",
              "      <th></th>\n",
              "      <th>gender</th>\n",
              "      <th>avg(Performance_Score)</th>\n",
              "      <th>avg(Employee_Satisfaction_Score)</th>\n",
              "    </tr>\n",
              "  </thead>\n",
              "  <tbody>\n",
              "    <tr>\n",
              "      <th>0</th>\n",
              "      <td>Male</td>\n",
              "      <td>3.0054</td>\n",
              "      <td>2.997567</td>\n",
              "    </tr>\n",
              "    <tr>\n",
              "      <th>1</th>\n",
              "      <td>Female</td>\n",
              "      <td>2.9940</td>\n",
              "      <td>3.005996</td>\n",
              "    </tr>\n",
              "    <tr>\n",
              "      <th>2</th>\n",
              "      <td>Other</td>\n",
              "      <td>3.0173</td>\n",
              "      <td>2.991569</td>\n",
              "    </tr>\n",
              "  </tbody>\n",
              "</table>\n",
              "</div>"
            ],
            "text/plain": [
              "   gender  avg(Performance_Score)  avg(Employee_Satisfaction_Score)\n",
              "0    Male                  3.0054                          2.997567\n",
              "1  Female                  2.9940                          3.005996\n",
              "2   Other                  3.0173                          2.991569"
            ]
          },
          "execution_count": 70,
          "metadata": {},
          "output_type": "execute_result"
        }
      ],
      "source": [
        "pd.read_sql(\"\"\"select gender, avg(Performance_Score), avg(Employee_Satisfaction_Score)\n",
        "                from employee_dataset group by gender\"\"\",db)"
      ]
    },
    {
      "cell_type": "markdown",
      "source": [
        "**23.CREATING CATEGORY BASED ON THEIR SATISFACTION SCORE**"
      ],
      "metadata": {
        "id": "SfAjR2TeqD6l"
      }
    },
    {
      "cell_type": "code",
      "execution_count": null,
      "metadata": {
        "id": "WXXykjXyeSqd",
        "outputId": "0e8001c8-fa8f-4bea-b69f-2a9b901cff61"
      },
      "outputs": [
        {
          "data": {
            "text/html": [
              "<div>\n",
              "<style scoped>\n",
              "    .dataframe tbody tr th:only-of-type {\n",
              "        vertical-align: middle;\n",
              "    }\n",
              "\n",
              "    .dataframe tbody tr th {\n",
              "        vertical-align: top;\n",
              "    }\n",
              "\n",
              "    .dataframe thead th {\n",
              "        text-align: right;\n",
              "    }\n",
              "</style>\n",
              "<table border=\"1\" class=\"dataframe\">\n",
              "  <thead>\n",
              "    <tr style=\"text-align: right;\">\n",
              "      <th></th>\n",
              "      <th>TO_BE_FIRED</th>\n",
              "      <th>TO_BE_WARNED</th>\n",
              "      <th>AVG_EMPLOYEE</th>\n",
              "      <th>GOOD_EMP</th>\n",
              "    </tr>\n",
              "  </thead>\n",
              "  <tbody>\n",
              "    <tr>\n",
              "      <th>0</th>\n",
              "      <td>9349</td>\n",
              "      <td>29251</td>\n",
              "      <td>15629</td>\n",
              "      <td>22868</td>\n",
              "    </tr>\n",
              "  </tbody>\n",
              "</table>\n",
              "</div>"
            ],
            "text/plain": [
              "   TO_BE_FIRED  TO_BE_WARNED  AVG_EMPLOYEE  GOOD_EMP\n",
              "0         9349         29251         15629     22868"
            ]
          },
          "execution_count": 76,
          "metadata": {},
          "output_type": "execute_result"
        }
      ],
      "source": [
        "x=pd.read_sql_query(\"\"\"SELECT\n",
        "                        COUNT(CASE WHEN Employee_Satisfaction_Score < 1.5 THEN 1 END) AS TO_BE_FIRED,\n",
        "                        COUNT(CASE WHEN Employee_Satisfaction_Score BETWEEN 1.5 AND 3 THEN 1 END) AS TO_BE_WARNED,\n",
        "                        COUNT(CASE WHEN Employee_Satisfaction_Score BETWEEN 3 AND 3.8 THEN 1 END) AS AVG_EMPLOYEE,\n",
        "                        COUNT(CASE WHEN Employee_Satisfaction_Score > 3.8  THEN 1 END) AS GOOD_EMP\n",
        "                    FROM employee_dataset\"\"\",db)\n",
        "x"
      ]
    },
    {
      "cell_type": "code",
      "execution_count": null,
      "metadata": {
        "id": "w1gX4DhyeSqe",
        "outputId": "e28f6681-d7f9-47ca-f5cf-6e62c25f3f44"
      },
      "outputs": [
        {
          "data": {
            "image/png": "[encoded data removed]",
            "text/plain": [
              "<Figure size 576x432 with 1 Axes>"
            ]
          },
          "metadata": {
            "needs_background": "light"
          },
          "output_type": "display_data"
        }
      ],
      "source": [
        "df1 = pd.DataFrame({'Category': ['TO_BE_FIRED', 'TO_BE_WARNED', 'AVG_EMPLOYEE', 'GOOD_EMP'],\n",
        "                   'Count': [x['TO_BE_FIRED'][0], x['TO_BE_WARNED'][0], x['AVG_EMPLOYEE'][0],x['GOOD_EMP'][0]]})\n",
        "plt.figure(figsize=(8, 6))\n",
        "ax = sns.barplot(x='Category', y='Count', data=df1, palette=\"dark\")\n",
        "plt.xlabel('Category Types', fontsize=12)\n",
        "plt.ylabel('Number of Employees', fontsize=12)\n",
        "plt.grid(axis='y', linestyle='--', alpha=0.7)\n",
        "plt.show()"
      ]
    },
    {
      "cell_type": "code",
      "execution_count": null,
      "metadata": {
        "id": "SRlRvvYAeSqf"
      },
      "outputs": [],
      "source": []
    }
  ],
  "metadata": {
    "kernelspec": {
      "display_name": "Python 3",
      "language": "python",
      "name": "python3"
    },
    "language_info": {
      "codemirror_mode": {
        "name": "ipython",
        "version": 3
      },
      "file_extension": ".py",
      "mimetype": "text/x-python",
      "name": "python",
      "nbconvert_exporter": "python",
      "pygments_lexer": "ipython3",
      "version": "3.7.6"
    },
    "colab": {
      "provenance": []
    }
  },
  "nbformat": 4,
  "nbformat_minor": 0
}